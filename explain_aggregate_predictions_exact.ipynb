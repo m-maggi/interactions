{
 "cells": [
  {
   "cell_type": "code",
   "execution_count": 1,
   "metadata": {},
   "outputs": [
    {
     "data": {
      "text/html": [
       "<div><style>\n",
       ".dataframe > thead > tr,\n",
       ".dataframe > tbody > tr {\n",
       "  text-align: right;\n",
       "  white-space: pre-wrap;\n",
       "}\n",
       "</style>\n",
       "<small>shape: (1_000_000, 7)</small><table border=\"1\" class=\"dataframe\"><thead><tr><th>year</th><th>town</th><th>driver_age</th><th>car_weight</th><th>car_power</th><th>car_age</th><th>claim_nb</th></tr><tr><td>f64</td><td>f64</td><td>f64</td><td>f64</td><td>f64</td><td>f64</td><td>i32</td></tr></thead><tbody><tr><td>2018.0</td><td>1.0</td><td>51.0</td><td>1760.0</td><td>173.0</td><td>3.0</td><td>0</td></tr><tr><td>2019.0</td><td>1.0</td><td>41.0</td><td>1760.0</td><td>248.0</td><td>2.0</td><td>0</td></tr><tr><td>2018.0</td><td>1.0</td><td>25.0</td><td>1240.0</td><td>111.0</td><td>2.0</td><td>0</td></tr><tr><td>2019.0</td><td>0.0</td><td>40.0</td><td>1010.0</td><td>83.0</td><td>9.0</td><td>0</td></tr><tr><td>2018.0</td><td>0.0</td><td>43.0</td><td>2180.0</td><td>169.0</td><td>5.0</td><td>0</td></tr><tr><td>&hellip;</td><td>&hellip;</td><td>&hellip;</td><td>&hellip;</td><td>&hellip;</td><td>&hellip;</td><td>&hellip;</td></tr><tr><td>2019.0</td><td>1.0</td><td>45.0</td><td>1090.0</td><td>62.0</td><td>2.0</td><td>0</td></tr><tr><td>2019.0</td><td>1.0</td><td>45.0</td><td>1180.0</td><td>93.0</td><td>4.0</td><td>0</td></tr><tr><td>2018.0</td><td>1.0</td><td>31.0</td><td>1060.0</td><td>57.0</td><td>1.0</td><td>0</td></tr><tr><td>2019.0</td><td>1.0</td><td>28.0</td><td>1910.0</td><td>149.0</td><td>0.0</td><td>0</td></tr><tr><td>2019.0</td><td>1.0</td><td>52.0</td><td>1230.0</td><td>99.0</td><td>3.0</td><td>1</td></tr></tbody></table></div>"
      ],
      "text/plain": [
       "shape: (1_000_000, 7)\n",
       "┌────────┬──────┬────────────┬────────────┬───────────┬─────────┬──────────┐\n",
       "│ year   ┆ town ┆ driver_age ┆ car_weight ┆ car_power ┆ car_age ┆ claim_nb │\n",
       "│ ---    ┆ ---  ┆ ---        ┆ ---        ┆ ---       ┆ ---     ┆ ---      │\n",
       "│ f64    ┆ f64  ┆ f64        ┆ f64        ┆ f64       ┆ f64     ┆ i32      │\n",
       "╞════════╪══════╪════════════╪════════════╪═══════════╪═════════╪══════════╡\n",
       "│ 2018.0 ┆ 1.0  ┆ 51.0       ┆ 1760.0     ┆ 173.0     ┆ 3.0     ┆ 0        │\n",
       "│ 2019.0 ┆ 1.0  ┆ 41.0       ┆ 1760.0     ┆ 248.0     ┆ 2.0     ┆ 0        │\n",
       "│ 2018.0 ┆ 1.0  ┆ 25.0       ┆ 1240.0     ┆ 111.0     ┆ 2.0     ┆ 0        │\n",
       "│ 2019.0 ┆ 0.0  ┆ 40.0       ┆ 1010.0     ┆ 83.0      ┆ 9.0     ┆ 0        │\n",
       "│ 2018.0 ┆ 0.0  ┆ 43.0       ┆ 2180.0     ┆ 169.0     ┆ 5.0     ┆ 0        │\n",
       "│ …      ┆ …    ┆ …          ┆ …          ┆ …         ┆ …       ┆ …        │\n",
       "│ 2019.0 ┆ 1.0  ┆ 45.0       ┆ 1090.0     ┆ 62.0      ┆ 2.0     ┆ 0        │\n",
       "│ 2019.0 ┆ 1.0  ┆ 45.0       ┆ 1180.0     ┆ 93.0      ┆ 4.0     ┆ 0        │\n",
       "│ 2018.0 ┆ 1.0  ┆ 31.0       ┆ 1060.0     ┆ 57.0      ┆ 1.0     ┆ 0        │\n",
       "│ 2019.0 ┆ 1.0  ┆ 28.0       ┆ 1910.0     ┆ 149.0     ┆ 0.0     ┆ 0        │\n",
       "│ 2019.0 ┆ 1.0  ┆ 52.0       ┆ 1230.0     ┆ 99.0      ┆ 3.0     ┆ 1        │\n",
       "└────────┴──────┴────────────┴────────────┴───────────┴─────────┴──────────┘"
      ]
     },
     "execution_count": 1,
     "metadata": {},
     "output_type": "execute_result"
    }
   ],
   "source": [
    "import numpy as np\n",
    "import pandas as pd\n",
    "import polars as pl\n",
    "import matplotlib.pyplot as plt\n",
    "from sklearn.compose import ColumnTransformer\n",
    "from sklearn.preprocessing import OneHotEncoder, KBinsDiscretizer\n",
    "\n",
    "\n",
    "if False:  # Fetch from OpenML\n",
    "    from sklearn.datasets import fetch_openml\n",
    "    \n",
    "    df = fetch_openml(data_id=45106, parser=\"pandas\").frame\n",
    "else:     # Fetch from repo\n",
    "    df = pl.read_parquet(\"df.parquet\")\n",
    "df"
   ]
  },
  {
   "cell_type": "code",
   "execution_count": 2,
   "metadata": {},
   "outputs": [
    {
     "data": {
      "text/html": [
       "<div><style>\n",
       ".dataframe > thead > tr,\n",
       ".dataframe > tbody > tr {\n",
       "  text-align: right;\n",
       "  white-space: pre-wrap;\n",
       "}\n",
       "</style>\n",
       "<small>shape: (1_000_000, 6)</small><table border=\"1\" class=\"dataframe\"><thead><tr><th>driver_age</th><th>car_weight</th><th>car_power</th><th>car_age</th><th>claim_nb</th><th>year</th></tr><tr><td>f64</td><td>f64</td><td>f64</td><td>f64</td><td>i32</td><td>f64</td></tr></thead><tbody><tr><td>3.0</td><td>4.0</td><td>4.0</td><td>2.0</td><td>0</td><td>2018.0</td></tr><tr><td>2.0</td><td>4.0</td><td>4.0</td><td>2.0</td><td>0</td><td>2019.0</td></tr><tr><td>0.0</td><td>2.0</td><td>2.0</td><td>2.0</td><td>0</td><td>2018.0</td></tr><tr><td>1.0</td><td>0.0</td><td>1.0</td><td>4.0</td><td>0</td><td>2019.0</td></tr><tr><td>2.0</td><td>4.0</td><td>4.0</td><td>3.0</td><td>0</td><td>2018.0</td></tr><tr><td>&hellip;</td><td>&hellip;</td><td>&hellip;</td><td>&hellip;</td><td>&hellip;</td><td>&hellip;</td></tr><tr><td>2.0</td><td>1.0</td><td>0.0</td><td>2.0</td><td>0</td><td>2019.0</td></tr><tr><td>2.0</td><td>2.0</td><td>1.0</td><td>3.0</td><td>0</td><td>2019.0</td></tr><tr><td>0.0</td><td>1.0</td><td>0.0</td><td>1.0</td><td>0</td><td>2018.0</td></tr><tr><td>0.0</td><td>4.0</td><td>3.0</td><td>0.0</td><td>0</td><td>2019.0</td></tr><tr><td>3.0</td><td>2.0</td><td>1.0</td><td>2.0</td><td>1</td><td>2019.0</td></tr></tbody></table></div>"
      ],
      "text/plain": [
       "shape: (1_000_000, 6)\n",
       "┌────────────┬────────────┬───────────┬─────────┬──────────┬────────┐\n",
       "│ driver_age ┆ car_weight ┆ car_power ┆ car_age ┆ claim_nb ┆ year   │\n",
       "│ ---        ┆ ---        ┆ ---       ┆ ---     ┆ ---      ┆ ---    │\n",
       "│ f64        ┆ f64        ┆ f64       ┆ f64     ┆ i32      ┆ f64    │\n",
       "╞════════════╪════════════╪═══════════╪═════════╪══════════╪════════╡\n",
       "│ 3.0        ┆ 4.0        ┆ 4.0       ┆ 2.0     ┆ 0        ┆ 2018.0 │\n",
       "│ 2.0        ┆ 4.0        ┆ 4.0       ┆ 2.0     ┆ 0        ┆ 2019.0 │\n",
       "│ 0.0        ┆ 2.0        ┆ 2.0       ┆ 2.0     ┆ 0        ┆ 2018.0 │\n",
       "│ 1.0        ┆ 0.0        ┆ 1.0       ┆ 4.0     ┆ 0        ┆ 2019.0 │\n",
       "│ 2.0        ┆ 4.0        ┆ 4.0       ┆ 3.0     ┆ 0        ┆ 2018.0 │\n",
       "│ …          ┆ …          ┆ …         ┆ …       ┆ …        ┆ …      │\n",
       "│ 2.0        ┆ 1.0        ┆ 0.0       ┆ 2.0     ┆ 0        ┆ 2019.0 │\n",
       "│ 2.0        ┆ 2.0        ┆ 1.0       ┆ 3.0     ┆ 0        ┆ 2019.0 │\n",
       "│ 0.0        ┆ 1.0        ┆ 0.0       ┆ 1.0     ┆ 0        ┆ 2018.0 │\n",
       "│ 0.0        ┆ 4.0        ┆ 3.0       ┆ 0.0     ┆ 0        ┆ 2019.0 │\n",
       "│ 3.0        ┆ 2.0        ┆ 1.0       ┆ 2.0     ┆ 1        ┆ 2019.0 │\n",
       "└────────────┴────────────┴───────────┴─────────┴──────────┴────────┘"
      ]
     },
     "execution_count": 2,
     "metadata": {},
     "output_type": "execute_result"
    }
   ],
   "source": [
    "vars_discretize = [\"driver_age\", \"car_weight\", \"car_power\", \"car_age\"]\n",
    "covs = vars_discretize\n",
    "kbins_ordinal = KBinsDiscretizer(n_bins=5, encode=\"ordinal\").set_output(transform=\"polars\")\n",
    "ordinal_data = kbins_ordinal.fit_transform(df[vars_discretize]).with_columns(\n",
    "    df[\"claim_nb\"],\n",
    "    df[\"year\"]\n",
    ")\n",
    "ordinal_data"
   ]
  },
  {
   "cell_type": "code",
   "execution_count": 3,
   "metadata": {},
   "outputs": [],
   "source": [
    "ohe = OneHotEncoder(sparse_output=False).set_output(transform=\"polars\")\n",
    "X_train = ohe.fit_transform(ordinal_data.select(\n",
    "    pl.all().exclude(\"claim_nb\", \"year\")\n",
    "))"
   ]
  },
  {
   "cell_type": "code",
   "execution_count": 4,
   "metadata": {},
   "outputs": [
    {
     "data": {
      "text/html": [
       "<style>#sk-container-id-1 {\n",
       "  /* Definition of color scheme common for light and dark mode */\n",
       "  --sklearn-color-text: black;\n",
       "  --sklearn-color-line: gray;\n",
       "  /* Definition of color scheme for unfitted estimators */\n",
       "  --sklearn-color-unfitted-level-0: #fff5e6;\n",
       "  --sklearn-color-unfitted-level-1: #f6e4d2;\n",
       "  --sklearn-color-unfitted-level-2: #ffe0b3;\n",
       "  --sklearn-color-unfitted-level-3: chocolate;\n",
       "  /* Definition of color scheme for fitted estimators */\n",
       "  --sklearn-color-fitted-level-0: #f0f8ff;\n",
       "  --sklearn-color-fitted-level-1: #d4ebff;\n",
       "  --sklearn-color-fitted-level-2: #b3dbfd;\n",
       "  --sklearn-color-fitted-level-3: cornflowerblue;\n",
       "\n",
       "  /* Specific color for light theme */\n",
       "  --sklearn-color-text-on-default-background: var(--sg-text-color, var(--theme-code-foreground, var(--jp-content-font-color1, black)));\n",
       "  --sklearn-color-background: var(--sg-background-color, var(--theme-background, var(--jp-layout-color0, white)));\n",
       "  --sklearn-color-border-box: var(--sg-text-color, var(--theme-code-foreground, var(--jp-content-font-color1, black)));\n",
       "  --sklearn-color-icon: #696969;\n",
       "\n",
       "  @media (prefers-color-scheme: dark) {\n",
       "    /* Redefinition of color scheme for dark theme */\n",
       "    --sklearn-color-text-on-default-background: var(--sg-text-color, var(--theme-code-foreground, var(--jp-content-font-color1, white)));\n",
       "    --sklearn-color-background: var(--sg-background-color, var(--theme-background, var(--jp-layout-color0, #111)));\n",
       "    --sklearn-color-border-box: var(--sg-text-color, var(--theme-code-foreground, var(--jp-content-font-color1, white)));\n",
       "    --sklearn-color-icon: #878787;\n",
       "  }\n",
       "}\n",
       "\n",
       "#sk-container-id-1 {\n",
       "  color: var(--sklearn-color-text);\n",
       "}\n",
       "\n",
       "#sk-container-id-1 pre {\n",
       "  padding: 0;\n",
       "}\n",
       "\n",
       "#sk-container-id-1 input.sk-hidden--visually {\n",
       "  border: 0;\n",
       "  clip: rect(1px 1px 1px 1px);\n",
       "  clip: rect(1px, 1px, 1px, 1px);\n",
       "  height: 1px;\n",
       "  margin: -1px;\n",
       "  overflow: hidden;\n",
       "  padding: 0;\n",
       "  position: absolute;\n",
       "  width: 1px;\n",
       "}\n",
       "\n",
       "#sk-container-id-1 div.sk-dashed-wrapped {\n",
       "  border: 1px dashed var(--sklearn-color-line);\n",
       "  margin: 0 0.4em 0.5em 0.4em;\n",
       "  box-sizing: border-box;\n",
       "  padding-bottom: 0.4em;\n",
       "  background-color: var(--sklearn-color-background);\n",
       "}\n",
       "\n",
       "#sk-container-id-1 div.sk-container {\n",
       "  /* jupyter's `normalize.less` sets `[hidden] { display: none; }`\n",
       "     but bootstrap.min.css set `[hidden] { display: none !important; }`\n",
       "     so we also need the `!important` here to be able to override the\n",
       "     default hidden behavior on the sphinx rendered scikit-learn.org.\n",
       "     See: https://github.com/scikit-learn/scikit-learn/issues/21755 */\n",
       "  display: inline-block !important;\n",
       "  position: relative;\n",
       "}\n",
       "\n",
       "#sk-container-id-1 div.sk-text-repr-fallback {\n",
       "  display: none;\n",
       "}\n",
       "\n",
       "div.sk-parallel-item,\n",
       "div.sk-serial,\n",
       "div.sk-item {\n",
       "  /* draw centered vertical line to link estimators */\n",
       "  background-image: linear-gradient(var(--sklearn-color-text-on-default-background), var(--sklearn-color-text-on-default-background));\n",
       "  background-size: 2px 100%;\n",
       "  background-repeat: no-repeat;\n",
       "  background-position: center center;\n",
       "}\n",
       "\n",
       "/* Parallel-specific style estimator block */\n",
       "\n",
       "#sk-container-id-1 div.sk-parallel-item::after {\n",
       "  content: \"\";\n",
       "  width: 100%;\n",
       "  border-bottom: 2px solid var(--sklearn-color-text-on-default-background);\n",
       "  flex-grow: 1;\n",
       "}\n",
       "\n",
       "#sk-container-id-1 div.sk-parallel {\n",
       "  display: flex;\n",
       "  align-items: stretch;\n",
       "  justify-content: center;\n",
       "  background-color: var(--sklearn-color-background);\n",
       "  position: relative;\n",
       "}\n",
       "\n",
       "#sk-container-id-1 div.sk-parallel-item {\n",
       "  display: flex;\n",
       "  flex-direction: column;\n",
       "}\n",
       "\n",
       "#sk-container-id-1 div.sk-parallel-item:first-child::after {\n",
       "  align-self: flex-end;\n",
       "  width: 50%;\n",
       "}\n",
       "\n",
       "#sk-container-id-1 div.sk-parallel-item:last-child::after {\n",
       "  align-self: flex-start;\n",
       "  width: 50%;\n",
       "}\n",
       "\n",
       "#sk-container-id-1 div.sk-parallel-item:only-child::after {\n",
       "  width: 0;\n",
       "}\n",
       "\n",
       "/* Serial-specific style estimator block */\n",
       "\n",
       "#sk-container-id-1 div.sk-serial {\n",
       "  display: flex;\n",
       "  flex-direction: column;\n",
       "  align-items: center;\n",
       "  background-color: var(--sklearn-color-background);\n",
       "  padding-right: 1em;\n",
       "  padding-left: 1em;\n",
       "}\n",
       "\n",
       "\n",
       "/* Toggleable style: style used for estimator/Pipeline/ColumnTransformer box that is\n",
       "clickable and can be expanded/collapsed.\n",
       "- Pipeline and ColumnTransformer use this feature and define the default style\n",
       "- Estimators will overwrite some part of the style using the `sk-estimator` class\n",
       "*/\n",
       "\n",
       "/* Pipeline and ColumnTransformer style (default) */\n",
       "\n",
       "#sk-container-id-1 div.sk-toggleable {\n",
       "  /* Default theme specific background. It is overwritten whether we have a\n",
       "  specific estimator or a Pipeline/ColumnTransformer */\n",
       "  background-color: var(--sklearn-color-background);\n",
       "}\n",
       "\n",
       "/* Toggleable label */\n",
       "#sk-container-id-1 label.sk-toggleable__label {\n",
       "  cursor: pointer;\n",
       "  display: block;\n",
       "  width: 100%;\n",
       "  margin-bottom: 0;\n",
       "  padding: 0.5em;\n",
       "  box-sizing: border-box;\n",
       "  text-align: center;\n",
       "}\n",
       "\n",
       "#sk-container-id-1 label.sk-toggleable__label-arrow:before {\n",
       "  /* Arrow on the left of the label */\n",
       "  content: \"▸\";\n",
       "  float: left;\n",
       "  margin-right: 0.25em;\n",
       "  color: var(--sklearn-color-icon);\n",
       "}\n",
       "\n",
       "#sk-container-id-1 label.sk-toggleable__label-arrow:hover:before {\n",
       "  color: var(--sklearn-color-text);\n",
       "}\n",
       "\n",
       "/* Toggleable content - dropdown */\n",
       "\n",
       "#sk-container-id-1 div.sk-toggleable__content {\n",
       "  max-height: 0;\n",
       "  max-width: 0;\n",
       "  overflow: hidden;\n",
       "  text-align: left;\n",
       "  /* unfitted */\n",
       "  background-color: var(--sklearn-color-unfitted-level-0);\n",
       "}\n",
       "\n",
       "#sk-container-id-1 div.sk-toggleable__content.fitted {\n",
       "  /* fitted */\n",
       "  background-color: var(--sklearn-color-fitted-level-0);\n",
       "}\n",
       "\n",
       "#sk-container-id-1 div.sk-toggleable__content pre {\n",
       "  margin: 0.2em;\n",
       "  border-radius: 0.25em;\n",
       "  color: var(--sklearn-color-text);\n",
       "  /* unfitted */\n",
       "  background-color: var(--sklearn-color-unfitted-level-0);\n",
       "}\n",
       "\n",
       "#sk-container-id-1 div.sk-toggleable__content.fitted pre {\n",
       "  /* unfitted */\n",
       "  background-color: var(--sklearn-color-fitted-level-0);\n",
       "}\n",
       "\n",
       "#sk-container-id-1 input.sk-toggleable__control:checked~div.sk-toggleable__content {\n",
       "  /* Expand drop-down */\n",
       "  max-height: 200px;\n",
       "  max-width: 100%;\n",
       "  overflow: auto;\n",
       "}\n",
       "\n",
       "#sk-container-id-1 input.sk-toggleable__control:checked~label.sk-toggleable__label-arrow:before {\n",
       "  content: \"▾\";\n",
       "}\n",
       "\n",
       "/* Pipeline/ColumnTransformer-specific style */\n",
       "\n",
       "#sk-container-id-1 div.sk-label input.sk-toggleable__control:checked~label.sk-toggleable__label {\n",
       "  color: var(--sklearn-color-text);\n",
       "  background-color: var(--sklearn-color-unfitted-level-2);\n",
       "}\n",
       "\n",
       "#sk-container-id-1 div.sk-label.fitted input.sk-toggleable__control:checked~label.sk-toggleable__label {\n",
       "  background-color: var(--sklearn-color-fitted-level-2);\n",
       "}\n",
       "\n",
       "/* Estimator-specific style */\n",
       "\n",
       "/* Colorize estimator box */\n",
       "#sk-container-id-1 div.sk-estimator input.sk-toggleable__control:checked~label.sk-toggleable__label {\n",
       "  /* unfitted */\n",
       "  background-color: var(--sklearn-color-unfitted-level-2);\n",
       "}\n",
       "\n",
       "#sk-container-id-1 div.sk-estimator.fitted input.sk-toggleable__control:checked~label.sk-toggleable__label {\n",
       "  /* fitted */\n",
       "  background-color: var(--sklearn-color-fitted-level-2);\n",
       "}\n",
       "\n",
       "#sk-container-id-1 div.sk-label label.sk-toggleable__label,\n",
       "#sk-container-id-1 div.sk-label label {\n",
       "  /* The background is the default theme color */\n",
       "  color: var(--sklearn-color-text-on-default-background);\n",
       "}\n",
       "\n",
       "/* On hover, darken the color of the background */\n",
       "#sk-container-id-1 div.sk-label:hover label.sk-toggleable__label {\n",
       "  color: var(--sklearn-color-text);\n",
       "  background-color: var(--sklearn-color-unfitted-level-2);\n",
       "}\n",
       "\n",
       "/* Label box, darken color on hover, fitted */\n",
       "#sk-container-id-1 div.sk-label.fitted:hover label.sk-toggleable__label.fitted {\n",
       "  color: var(--sklearn-color-text);\n",
       "  background-color: var(--sklearn-color-fitted-level-2);\n",
       "}\n",
       "\n",
       "/* Estimator label */\n",
       "\n",
       "#sk-container-id-1 div.sk-label label {\n",
       "  font-family: monospace;\n",
       "  font-weight: bold;\n",
       "  display: inline-block;\n",
       "  line-height: 1.2em;\n",
       "}\n",
       "\n",
       "#sk-container-id-1 div.sk-label-container {\n",
       "  text-align: center;\n",
       "}\n",
       "\n",
       "/* Estimator-specific */\n",
       "#sk-container-id-1 div.sk-estimator {\n",
       "  font-family: monospace;\n",
       "  border: 1px dotted var(--sklearn-color-border-box);\n",
       "  border-radius: 0.25em;\n",
       "  box-sizing: border-box;\n",
       "  margin-bottom: 0.5em;\n",
       "  /* unfitted */\n",
       "  background-color: var(--sklearn-color-unfitted-level-0);\n",
       "}\n",
       "\n",
       "#sk-container-id-1 div.sk-estimator.fitted {\n",
       "  /* fitted */\n",
       "  background-color: var(--sklearn-color-fitted-level-0);\n",
       "}\n",
       "\n",
       "/* on hover */\n",
       "#sk-container-id-1 div.sk-estimator:hover {\n",
       "  /* unfitted */\n",
       "  background-color: var(--sklearn-color-unfitted-level-2);\n",
       "}\n",
       "\n",
       "#sk-container-id-1 div.sk-estimator.fitted:hover {\n",
       "  /* fitted */\n",
       "  background-color: var(--sklearn-color-fitted-level-2);\n",
       "}\n",
       "\n",
       "/* Specification for estimator info (e.g. \"i\" and \"?\") */\n",
       "\n",
       "/* Common style for \"i\" and \"?\" */\n",
       "\n",
       ".sk-estimator-doc-link,\n",
       "a:link.sk-estimator-doc-link,\n",
       "a:visited.sk-estimator-doc-link {\n",
       "  float: right;\n",
       "  font-size: smaller;\n",
       "  line-height: 1em;\n",
       "  font-family: monospace;\n",
       "  background-color: var(--sklearn-color-background);\n",
       "  border-radius: 1em;\n",
       "  height: 1em;\n",
       "  width: 1em;\n",
       "  text-decoration: none !important;\n",
       "  margin-left: 1ex;\n",
       "  /* unfitted */\n",
       "  border: var(--sklearn-color-unfitted-level-1) 1pt solid;\n",
       "  color: var(--sklearn-color-unfitted-level-1);\n",
       "}\n",
       "\n",
       ".sk-estimator-doc-link.fitted,\n",
       "a:link.sk-estimator-doc-link.fitted,\n",
       "a:visited.sk-estimator-doc-link.fitted {\n",
       "  /* fitted */\n",
       "  border: var(--sklearn-color-fitted-level-1) 1pt solid;\n",
       "  color: var(--sklearn-color-fitted-level-1);\n",
       "}\n",
       "\n",
       "/* On hover */\n",
       "div.sk-estimator:hover .sk-estimator-doc-link:hover,\n",
       ".sk-estimator-doc-link:hover,\n",
       "div.sk-label-container:hover .sk-estimator-doc-link:hover,\n",
       ".sk-estimator-doc-link:hover {\n",
       "  /* unfitted */\n",
       "  background-color: var(--sklearn-color-unfitted-level-3);\n",
       "  color: var(--sklearn-color-background);\n",
       "  text-decoration: none;\n",
       "}\n",
       "\n",
       "div.sk-estimator.fitted:hover .sk-estimator-doc-link.fitted:hover,\n",
       ".sk-estimator-doc-link.fitted:hover,\n",
       "div.sk-label-container:hover .sk-estimator-doc-link.fitted:hover,\n",
       ".sk-estimator-doc-link.fitted:hover {\n",
       "  /* fitted */\n",
       "  background-color: var(--sklearn-color-fitted-level-3);\n",
       "  color: var(--sklearn-color-background);\n",
       "  text-decoration: none;\n",
       "}\n",
       "\n",
       "/* Span, style for the box shown on hovering the info icon */\n",
       ".sk-estimator-doc-link span {\n",
       "  display: none;\n",
       "  z-index: 9999;\n",
       "  position: relative;\n",
       "  font-weight: normal;\n",
       "  right: .2ex;\n",
       "  padding: .5ex;\n",
       "  margin: .5ex;\n",
       "  width: min-content;\n",
       "  min-width: 20ex;\n",
       "  max-width: 50ex;\n",
       "  color: var(--sklearn-color-text);\n",
       "  box-shadow: 2pt 2pt 4pt #999;\n",
       "  /* unfitted */\n",
       "  background: var(--sklearn-color-unfitted-level-0);\n",
       "  border: .5pt solid var(--sklearn-color-unfitted-level-3);\n",
       "}\n",
       "\n",
       ".sk-estimator-doc-link.fitted span {\n",
       "  /* fitted */\n",
       "  background: var(--sklearn-color-fitted-level-0);\n",
       "  border: var(--sklearn-color-fitted-level-3);\n",
       "}\n",
       "\n",
       ".sk-estimator-doc-link:hover span {\n",
       "  display: block;\n",
       "}\n",
       "\n",
       "/* \"?\"-specific style due to the `<a>` HTML tag */\n",
       "\n",
       "#sk-container-id-1 a.estimator_doc_link {\n",
       "  float: right;\n",
       "  font-size: 1rem;\n",
       "  line-height: 1em;\n",
       "  font-family: monospace;\n",
       "  background-color: var(--sklearn-color-background);\n",
       "  border-radius: 1rem;\n",
       "  height: 1rem;\n",
       "  width: 1rem;\n",
       "  text-decoration: none;\n",
       "  /* unfitted */\n",
       "  color: var(--sklearn-color-unfitted-level-1);\n",
       "  border: var(--sklearn-color-unfitted-level-1) 1pt solid;\n",
       "}\n",
       "\n",
       "#sk-container-id-1 a.estimator_doc_link.fitted {\n",
       "  /* fitted */\n",
       "  border: var(--sklearn-color-fitted-level-1) 1pt solid;\n",
       "  color: var(--sklearn-color-fitted-level-1);\n",
       "}\n",
       "\n",
       "/* On hover */\n",
       "#sk-container-id-1 a.estimator_doc_link:hover {\n",
       "  /* unfitted */\n",
       "  background-color: var(--sklearn-color-unfitted-level-3);\n",
       "  color: var(--sklearn-color-background);\n",
       "  text-decoration: none;\n",
       "}\n",
       "\n",
       "#sk-container-id-1 a.estimator_doc_link.fitted:hover {\n",
       "  /* fitted */\n",
       "  background-color: var(--sklearn-color-fitted-level-3);\n",
       "}\n",
       "</style><div id=\"sk-container-id-1\" class=\"sk-top-container\"><div class=\"sk-text-repr-fallback\"><pre>PoissonRegressor(alpha=0.001)</pre><b>In a Jupyter environment, please rerun this cell to show the HTML representation or trust the notebook. <br />On GitHub, the HTML representation is unable to render, please try loading this page with nbviewer.org.</b></div><div class=\"sk-container\" hidden><div class=\"sk-item\"><div class=\"sk-estimator fitted sk-toggleable\"><input class=\"sk-toggleable__control sk-hidden--visually\" id=\"sk-estimator-id-1\" type=\"checkbox\" checked><label for=\"sk-estimator-id-1\" class=\"sk-toggleable__label fitted sk-toggleable__label-arrow fitted\">&nbsp;&nbsp;PoissonRegressor<a class=\"sk-estimator-doc-link fitted\" rel=\"noreferrer\" target=\"_blank\" href=\"https://scikit-learn.org/1.5/modules/generated/sklearn.linear_model.PoissonRegressor.html\">?<span>Documentation for PoissonRegressor</span></a><span class=\"sk-estimator-doc-link fitted\">i<span>Fitted</span></span></label><div class=\"sk-toggleable__content fitted\"><pre>PoissonRegressor(alpha=0.001)</pre></div> </div></div></div></div>"
      ],
      "text/plain": [
       "PoissonRegressor(alpha=0.001)"
      ]
     },
     "execution_count": 4,
     "metadata": {},
     "output_type": "execute_result"
    }
   ],
   "source": [
    "from sklearn.linear_model import PoissonRegressor\n",
    "glm = PoissonRegressor(alpha=1e-3)\n",
    "glm.fit(X_train, df[\"claim_nb\"])"
   ]
  },
  {
   "cell_type": "code",
   "execution_count": 5,
   "metadata": {},
   "outputs": [],
   "source": [
    "years = np.arange(2010, 2020)\n",
    "np.random.seed(500)\n",
    "sample_years = np.random.choice(years, size=df.height)\n",
    "df = df.with_columns(\n",
    "    pl.lit(sample_years).alias(\"year\"),\n",
    "    pl.lit(glm.predict(X_train)).alias(\"y_hat\")\n",
    ")\n",
    "ordinal_data = ordinal_data.with_columns(\n",
    "    pl.lit(sample_years).alias(\"year\"),\n",
    "    pl.lit(glm.predict(X_train)).alias(\"y_hat\")\n",
    ").with_columns(\n",
    "    pl.all().exclude(\"year\", \"claim_nb\", \"y_hat\").cast(str),\n",
    ")"
   ]
  },
  {
   "cell_type": "code",
   "execution_count": 6,
   "metadata": {},
   "outputs": [
    {
     "data": {
      "text/html": [
       "<div><style>\n",
       ".dataframe > thead > tr,\n",
       ".dataframe > tbody > tr {\n",
       "  text-align: right;\n",
       "  white-space: pre-wrap;\n",
       "}\n",
       "</style>\n",
       "<small>shape: (625, 5)</small><table border=\"1\" class=\"dataframe\"><thead><tr><th>driver_age</th><th>car_weight</th><th>car_power</th><th>car_age</th><th>y_hat</th></tr><tr><td>str</td><td>str</td><td>str</td><td>str</td><td>f64</td></tr></thead><tbody><tr><td>&quot;4.0&quot;</td><td>&quot;3.0&quot;</td><td>&quot;1.0&quot;</td><td>&quot;0.0&quot;</td><td>0.083301</td></tr><tr><td>&quot;3.0&quot;</td><td>&quot;0.0&quot;</td><td>&quot;0.0&quot;</td><td>&quot;3.0&quot;</td><td>0.060594</td></tr><tr><td>&quot;3.0&quot;</td><td>&quot;2.0&quot;</td><td>&quot;2.0&quot;</td><td>&quot;0.0&quot;</td><td>0.079248</td></tr><tr><td>&quot;4.0&quot;</td><td>&quot;3.0&quot;</td><td>&quot;1.0&quot;</td><td>&quot;2.0&quot;</td><td>0.078954</td></tr><tr><td>&quot;1.0&quot;</td><td>&quot;0.0&quot;</td><td>&quot;1.0&quot;</td><td>&quot;3.0&quot;</td><td>0.07209</td></tr><tr><td>&hellip;</td><td>&hellip;</td><td>&hellip;</td><td>&hellip;</td><td>&hellip;</td></tr><tr><td>&quot;3.0&quot;</td><td>&quot;4.0&quot;</td><td>&quot;1.0&quot;</td><td>&quot;4.0&quot;</td><td>0.064939</td></tr><tr><td>&quot;3.0&quot;</td><td>&quot;0.0&quot;</td><td>&quot;4.0&quot;</td><td>&quot;2.0&quot;</td><td>0.102331</td></tr><tr><td>&quot;1.0&quot;</td><td>&quot;4.0&quot;</td><td>&quot;2.0&quot;</td><td>&quot;3.0&quot;</td><td>0.082314</td></tr><tr><td>&quot;2.0&quot;</td><td>&quot;2.0&quot;</td><td>&quot;4.0&quot;</td><td>&quot;4.0&quot;</td><td>0.096634</td></tr><tr><td>&quot;2.0&quot;</td><td>&quot;2.0&quot;</td><td>&quot;3.0&quot;</td><td>&quot;3.0&quot;</td><td>0.085615</td></tr></tbody></table></div>"
      ],
      "text/plain": [
       "shape: (625, 5)\n",
       "┌────────────┬────────────┬───────────┬─────────┬──────────┐\n",
       "│ driver_age ┆ car_weight ┆ car_power ┆ car_age ┆ y_hat    │\n",
       "│ ---        ┆ ---        ┆ ---       ┆ ---     ┆ ---      │\n",
       "│ str        ┆ str        ┆ str       ┆ str     ┆ f64      │\n",
       "╞════════════╪════════════╪═══════════╪═════════╪══════════╡\n",
       "│ 4.0        ┆ 3.0        ┆ 1.0       ┆ 0.0     ┆ 0.083301 │\n",
       "│ 3.0        ┆ 0.0        ┆ 0.0       ┆ 3.0     ┆ 0.060594 │\n",
       "│ 3.0        ┆ 2.0        ┆ 2.0       ┆ 0.0     ┆ 0.079248 │\n",
       "│ 4.0        ┆ 3.0        ┆ 1.0       ┆ 2.0     ┆ 0.078954 │\n",
       "│ 1.0        ┆ 0.0        ┆ 1.0       ┆ 3.0     ┆ 0.07209  │\n",
       "│ …          ┆ …          ┆ …         ┆ …       ┆ …        │\n",
       "│ 3.0        ┆ 4.0        ┆ 1.0       ┆ 4.0     ┆ 0.064939 │\n",
       "│ 3.0        ┆ 0.0        ┆ 4.0       ┆ 2.0     ┆ 0.102331 │\n",
       "│ 1.0        ┆ 4.0        ┆ 2.0       ┆ 3.0     ┆ 0.082314 │\n",
       "│ 2.0        ┆ 2.0        ┆ 4.0       ┆ 4.0     ┆ 0.096634 │\n",
       "│ 2.0        ┆ 2.0        ┆ 3.0       ┆ 3.0     ┆ 0.085615 │\n",
       "└────────────┴────────────┴───────────┴─────────┴──────────┘"
      ]
     },
     "execution_count": 6,
     "metadata": {},
     "output_type": "execute_result"
    }
   ],
   "source": [
    "factors_df = ordinal_data.select(\n",
    "    pl.all().exclude(\"year\", \"claim_nb\")\n",
    ").unique()\n",
    "factors_df"
   ]
  },
  {
   "cell_type": "code",
   "execution_count": 7,
   "metadata": {},
   "outputs": [],
   "source": [
    "# factors_df.schema"
   ]
  },
  {
   "cell_type": "code",
   "execution_count": 8,
   "metadata": {},
   "outputs": [],
   "source": [
    "def get_pivot_df(year1, year2, factors_df, data, covs):\n",
    "    dist_1 = data.filter(\n",
    "        pl.col(\"year\") == year1\n",
    "    )\n",
    "    dist_2 = data.filter(\n",
    "        pl.col(\"year\") == year2\n",
    "    )\n",
    "    _ = dist_1.group_by(\n",
    "        covs\n",
    "    ).agg(\n",
    "        pl.col(\"year\").count().alias(\"n_obs\")\n",
    "    ).with_columns(\n",
    "        (pl.col(\"n_obs\") / pl.col(\"n_obs\").sum()).alias(\"p_x\")\n",
    "    ).select(\n",
    "        pl.lit(year1).alias(\"year\"),\n",
    "        pl.col(covs),\n",
    "        pl.col(\"p_x\")\n",
    "    )\n",
    "    distrs = _.clone()\n",
    "    _ = dist_2.group_by(\n",
    "        covs\n",
    "    ).agg(\n",
    "        pl.col(\"year\").count().alias(\"n_obs\")\n",
    "    ).with_columns(\n",
    "        (pl.col(\"n_obs\") / pl.col(\"n_obs\").sum()).alias(\"p_x\")\n",
    "    ).select(\n",
    "        pl.lit(year2).alias(\"year\"),\n",
    "        pl.col(covs),\n",
    "        pl.col(\"p_x\")\n",
    "    )\n",
    "    distrs = pl.concat([distrs, _])\n",
    "    pivot_df = distrs.pivot(\n",
    "    index=covs,\n",
    "    on=\"year\"\n",
    "    ).fill_null(0).with_columns(\n",
    "        (pl.col(str(year2)) - pl.col(str(year1))).alias(\"delta_px\")\n",
    "    ).join(\n",
    "        factors_df, on=covs\n",
    "    ).with_columns(\n",
    "        (pl.col(\"y_hat\") * pl.col(\"delta_px\")).alias(\"contribution\")\n",
    "    )\n",
    "    return pivot_df, pivot_df[\"contribution\"].sum()"
   ]
  },
  {
   "cell_type": "code",
   "execution_count": 9,
   "metadata": {},
   "outputs": [
    {
     "data": {
      "text/plain": [
       "<matplotlib.collections.PathCollection at 0x176188b00>"
      ]
     },
     "execution_count": 9,
     "metadata": {},
     "output_type": "execute_result"
    },
    {
     "data": {
      "image/png": "[encoded data removed]",
      "text/plain": [
       "<Figure size 640x480 with 1 Axes>"
      ]
     },
     "metadata": {},
     "output_type": "display_data"
    }
   ],
   "source": [
    "res = []\n",
    "for year in df[\"year\"].unique().sort()[:-1]:\n",
    "    res.append(get_pivot_df(year, year + 1, factors_df, ordinal_data, covs))\n",
    "\n",
    "obs_deltas = ordinal_data.group_by(\n",
    "    \"year\"\n",
    ").agg(\n",
    "    pl.col(\"y_hat\").mean()\n",
    ").sort(\"year\").select(\n",
    "    pl.col(\"y_hat\").diff().alias(\"diff\")\n",
    ").drop_nulls().to_numpy()\n",
    "expected_deltas = [el[1] for el in res]\n",
    "plt.axline((0, 0), slope=1., linestyle=\"--\")\n",
    "plt.scatter(expected_deltas, obs_deltas)"
   ]
  },
  {
   "cell_type": "code",
   "execution_count": 10,
   "metadata": {},
   "outputs": [],
   "source": [
    "import plotly.express as px"
   ]
  },
  {
   "cell_type": "code",
   "execution_count": 11,
   "metadata": {},
   "outputs": [
    {
     "data": {
      "text/html": [
       "<div><style>\n",
       ".dataframe > thead > tr,\n",
       ".dataframe > tbody > tr {\n",
       "  text-align: right;\n",
       "  white-space: pre-wrap;\n",
       "}\n",
       "</style>\n",
       "<small>shape: (621, 9)</small><table border=\"1\" class=\"dataframe\"><thead><tr><th>driver_age</th><th>car_weight</th><th>car_power</th><th>car_age</th><th>2010</th><th>2011</th><th>delta_px</th><th>y_hat</th><th>contribution</th></tr><tr><td>str</td><td>str</td><td>str</td><td>str</td><td>f64</td><td>f64</td><td>f64</td><td>f64</td><td>f64</td></tr></thead><tbody><tr><td>&quot;4.0&quot;</td><td>&quot;3.0&quot;</td><td>&quot;1.0&quot;</td><td>&quot;0.0&quot;</td><td>0.00036</td><td>0.000342</td><td>-0.000018</td><td>0.083301</td><td>-0.000002</td></tr><tr><td>&quot;3.0&quot;</td><td>&quot;0.0&quot;</td><td>&quot;0.0&quot;</td><td>&quot;3.0&quot;</td><td>0.005342</td><td>0.005088</td><td>-0.000254</td><td>0.060594</td><td>-0.000015</td></tr><tr><td>&quot;3.0&quot;</td><td>&quot;2.0&quot;</td><td>&quot;2.0&quot;</td><td>&quot;0.0&quot;</td><td>0.00098</td><td>0.000784</td><td>-0.000196</td><td>0.079248</td><td>-0.000016</td></tr><tr><td>&quot;4.0&quot;</td><td>&quot;3.0&quot;</td><td>&quot;1.0&quot;</td><td>&quot;2.0&quot;</td><td>0.00163</td><td>0.001558</td><td>-0.000072</td><td>0.078954</td><td>-0.000006</td></tr><tr><td>&quot;1.0&quot;</td><td>&quot;0.0&quot;</td><td>&quot;1.0&quot;</td><td>&quot;3.0&quot;</td><td>0.002611</td><td>0.002534</td><td>-0.000077</td><td>0.07209</td><td>-0.000006</td></tr><tr><td>&hellip;</td><td>&hellip;</td><td>&hellip;</td><td>&hellip;</td><td>&hellip;</td><td>&hellip;</td><td>&hellip;</td><td>&hellip;</td><td>&hellip;</td></tr><tr><td>&quot;3.0&quot;</td><td>&quot;4.0&quot;</td><td>&quot;1.0&quot;</td><td>&quot;4.0&quot;</td><td>0.00036</td><td>0.000463</td><td>0.000102</td><td>0.064939</td><td>0.000007</td></tr><tr><td>&quot;3.0&quot;</td><td>&quot;0.0&quot;</td><td>&quot;4.0&quot;</td><td>&quot;2.0&quot;</td><td>0.00015</td><td>0.000101</td><td>-0.000049</td><td>0.102331</td><td>-0.000005</td></tr><tr><td>&quot;1.0&quot;</td><td>&quot;4.0&quot;</td><td>&quot;2.0&quot;</td><td>&quot;3.0&quot;</td><td>0.00098</td><td>0.000925</td><td>-0.000055</td><td>0.082314</td><td>-0.000005</td></tr><tr><td>&quot;2.0&quot;</td><td>&quot;2.0&quot;</td><td>&quot;4.0&quot;</td><td>&quot;4.0&quot;</td><td>0.00128</td><td>0.001227</td><td>-0.000054</td><td>0.096634</td><td>-0.000005</td></tr><tr><td>&quot;2.0&quot;</td><td>&quot;2.0&quot;</td><td>&quot;3.0&quot;</td><td>&quot;3.0&quot;</td><td>0.002661</td><td>0.002735</td><td>0.000074</td><td>0.085615</td><td>0.000006</td></tr></tbody></table></div>"
      ],
      "text/plain": [
       "shape: (621, 9)\n",
       "┌────────────┬────────────┬───────────┬─────────┬───┬──────────┬───────────┬──────────┬────────────┐\n",
       "│ driver_age ┆ car_weight ┆ car_power ┆ car_age ┆ … ┆ 2011     ┆ delta_px  ┆ y_hat    ┆ contributi │\n",
       "│ ---        ┆ ---        ┆ ---       ┆ ---     ┆   ┆ ---      ┆ ---       ┆ ---      ┆ on         │\n",
       "│ str        ┆ str        ┆ str       ┆ str     ┆   ┆ f64      ┆ f64       ┆ f64      ┆ ---        │\n",
       "│            ┆            ┆           ┆         ┆   ┆          ┆           ┆          ┆ f64        │\n",
       "╞════════════╪════════════╪═══════════╪═════════╪═══╪══════════╪═══════════╪══════════╪════════════╡\n",
       "│ 4.0        ┆ 3.0        ┆ 1.0       ┆ 0.0     ┆ … ┆ 0.000342 ┆ -0.000018 ┆ 0.083301 ┆ -0.000002  │\n",
       "│ 3.0        ┆ 0.0        ┆ 0.0       ┆ 3.0     ┆ … ┆ 0.005088 ┆ -0.000254 ┆ 0.060594 ┆ -0.000015  │\n",
       "│ 3.0        ┆ 2.0        ┆ 2.0       ┆ 0.0     ┆ … ┆ 0.000784 ┆ -0.000196 ┆ 0.079248 ┆ -0.000016  │\n",
       "│ 4.0        ┆ 3.0        ┆ 1.0       ┆ 2.0     ┆ … ┆ 0.001558 ┆ -0.000072 ┆ 0.078954 ┆ -0.000006  │\n",
       "│ 1.0        ┆ 0.0        ┆ 1.0       ┆ 3.0     ┆ … ┆ 0.002534 ┆ -0.000077 ┆ 0.07209  ┆ -0.000006  │\n",
       "│ …          ┆ …          ┆ …         ┆ …       ┆ … ┆ …        ┆ …         ┆ …        ┆ …          │\n",
       "│ 3.0        ┆ 4.0        ┆ 1.0       ┆ 4.0     ┆ … ┆ 0.000463 ┆ 0.000102  ┆ 0.064939 ┆ 0.000007   │\n",
       "│ 3.0        ┆ 0.0        ┆ 4.0       ┆ 2.0     ┆ … ┆ 0.000101 ┆ -0.000049 ┆ 0.102331 ┆ -0.000005  │\n",
       "│ 1.0        ┆ 4.0        ┆ 2.0       ┆ 3.0     ┆ … ┆ 0.000925 ┆ -0.000055 ┆ 0.082314 ┆ -0.000005  │\n",
       "│ 2.0        ┆ 2.0        ┆ 4.0       ┆ 4.0     ┆ … ┆ 0.001227 ┆ -0.000054 ┆ 0.096634 ┆ -0.000005  │\n",
       "│ 2.0        ┆ 2.0        ┆ 3.0       ┆ 3.0     ┆ … ┆ 0.002735 ┆ 0.000074  ┆ 0.085615 ┆ 0.000006   │\n",
       "└────────────┴────────────┴───────────┴─────────┴───┴──────────┴───────────┴──────────┴────────────┘"
      ]
     },
     "execution_count": 11,
     "metadata": {},
     "output_type": "execute_result"
    }
   ],
   "source": [
    "res[0][0]"
   ]
  },
  {
   "cell_type": "code",
   "execution_count": 12,
   "metadata": {},
   "outputs": [
    {
     "data": {
      "application/vnd.plotly.v1+json": {
       "config": {
        "plotlyServerURL": "https://plot.ly"
       },
       "data": [
        {
         "alignmentgroup": "True",
         "bingroup": "x",
         "hovertemplate": "contribution=%{x}<br>count=%{y}<extra></extra>",
         "legendgroup": "",
         "marker": {
          "color": "#636efa",
          "pattern": {
           "shape": ""
          }
         },
         "name": "",
         "offsetgroup": "",
         "orientation": "v",
         "showlegend": false,
         "type": "histogram",
         "x": [
          -0.0000015198048917927268,
          -0.00001538324279258974,
          -0.000015533969059259803,
          -0.000005684297065856376,
          -0.0000055490341590399246,
          -0.000004020588826163697,
          -0.0000025496277948974335,
          -0.000023905418271737317,
          -4.765633563712561e-7,
          0.00001485853412112681,
          0.000002494402337481407,
          0.00000953663834162933,
          0.000005224163260525943,
          -0.0000011983443072437195,
          -0.000041739577826865174,
          -0.000009450343447210947,
          -0.0000011362197785212285,
          -0.000007412910978493747,
          -0.000016083394913461306,
          0.00004289455885173351,
          -0.000001978702144124648,
          0.0000060211426916029975,
          -0.000017399750615482927,
          -0.000007170653173016916,
          -0.00001952501011454714,
          -0.000011839492423302858,
          0.000012145409497250099,
          0.0000064517635158865645,
          0.000007050133604160631,
          0.000002834030960213846,
          0.000017258869716452583,
          -0.000025165517250940973,
          -0.000020316526810872595,
          -3.693415028688793e-7,
          -0.000014970231645063888,
          -0.0000012141721408670938,
          0.000002511017376236671,
          0.000027733695339490637,
          0.00001502081271252296,
          4.7245034526190376e-7,
          -0.000011473841786120325,
          0.0000034348394025150326,
          4.915411793886537e-7,
          -0.0000035255692325767506,
          -6.635004827601605e-7,
          -5.744822053718723e-7,
          0.000030298959708875836,
          -0.000011922050019539961,
          0.00002404379399239565,
          0.000025385132406367054,
          -0.000009113087846546656,
          -0.0000017049263213451548,
          -0.0000015963851489466042,
          0.000013675726239143879,
          0.000016476095452399473,
          -0.000008741906635985139,
          -0.00000467641444701633,
          0.000013836797649739776,
          -0.000019082328651717048,
          0.0000012141782514550095,
          -0.000027548673521679192,
          -0.000010913674150083419,
          -0.000014565711056802458,
          -0.000008482321571003654,
          0.000005559061592551121,
          -0.000006433051750428026,
          0.00006485127366157741,
          0.000011273930153513627,
          -0.0000012798727315785632,
          0.000001279326414145726,
          -0.00002993834637203889,
          -0.0000015930991911510084,
          -0.0000031766677488281127,
          -0.000007199861448329676,
          0.000014817026608651886,
          0.000018006882950197975,
          -0.0000018046429790463683,
          0.000019153375440596097,
          0.000023227121125257617,
          0.000001886406274703555,
          0.0000015236166616491852,
          -0.000031392705728418847,
          0.00004656457748053944,
          -0.0000018679202212000951,
          0.00000700884053704257,
          0.00000497754764796136,
          0.000011611343496938395,
          0.000013581151158265886,
          -0.000002213748285826094,
          0.000016856764170783664,
          -0.0000024801487558828062,
          -0.000006991379281716199,
          -0.000035721134121049586,
          -0.000010131393355005767,
          0.000003984365497274458,
          -0.00000391260084443143,
          -0.0000021194374085658707,
          0.000020044042979084057,
          0.0000062469450238489386,
          -0.000006119643092079576,
          0.000001658185882878043,
          0.000010790758647607688,
          -0.000009433569588889874,
          -0.000003539625347713912,
          3.978406162699943e-8,
          -0.000025037429776845166,
          5.1963942878251236e-8,
          -0.000010284964101331672,
          -0.000018354097781988348,
          -0.000002607051874226016,
          -0.000007126292812066678,
          -0.000015175332549847802,
          -0.00001736542473698959,
          0.000014344035032362789,
          5.545960556972784e-7,
          0.000016337371808788134,
          -0.00001191045849351912,
          0.000015761171633806197,
          -6.325281739362126e-7,
          0.0000074258638371259524,
          -0.000003929807560260885,
          -0.000010394434307080522,
          -0.0000033954928668594573,
          -0.000016604325400664363,
          -0.00002379261123598593,
          0.00001499425760925669,
          0.000023292583828240388,
          -0.00000290161735528095,
          4.1822954814931815e-7,
          0.000028213757570612855,
          0.000002295161876212672,
          -0.0000018255640108259677,
          0.000004499117831792945,
          0.000009513344939753285,
          -0.000002841040251645289,
          0.000026523431447658433,
          -0.00003100031533058082,
          -0.000002803122144337808,
          -0.000010830270304428566,
          0.00000820993382892267,
          0.0000028111087197469357,
          -0.000018023170869807317,
          -0.0000031305848447618416,
          0.000008968950321746495,
          -0.000010799254269876402,
          0.0000026925790920399357,
          0.0000017001306283057846,
          0.000008099649945248346,
          0.000006760162141656427,
          0.000004453811788399364,
          -1.8990756286916246e-7,
          0.000022016663188385407,
          -0.000004735612774965557,
          -0.000048894135743900796,
          0.000022703099450746855,
          -0.0000063823805001843526,
          -0.00001815904544642436,
          0.000011591049183172114,
          0.000003884833283385771,
          0.000007956383884852901,
          6.346152159723371e-7,
          0.000015307705419685604,
          4.3388760139416086e-7,
          0.0000045837916112741196,
          0.000007362983051109703,
          -0.0000143850197660131,
          0.000012698288778210291,
          9.585714005008178e-7,
          0.000015492155078750778,
          0.000001151611595699928,
          -0.000018135820604319578,
          0.000004941852326675921,
          0.000019804508172505038,
          0.00001570018376955859,
          -0.0000010330346923169235,
          -0.000006308835445190429,
          -0.000039553967349173514,
          -0.0000068659257469449455,
          -0.0000066657284324956475,
          -0.000014887416885243474,
          -0.0000029340760067805214,
          0.000008374244832977603,
          0.000010795770785107252,
          0.000012954008128504004,
          0.000014484459421564318,
          0.000015175095511417747,
          4.840241046916138e-7,
          -0.000011366012144336063,
          -0.000046253411686881247,
          0.000028469346239301744,
          0.000009875169129847219,
          0.000006379832580534891,
          -0.000003963991873652552,
          0.000011230301703870665,
          0.000028513233122932728,
          0.000023442485486295036,
          -0.000010335384792550562,
          -0.000014654867107984818,
          0.00001285614084597317,
          -0.00001612919967600045,
          -0.000003516323374177164,
          -0.000022910248234084468,
          0.000002880764809612217,
          0.000017151308174900088,
          0.000014065553534435551,
          0.00002585705187831973,
          0.0000052451772796122765,
          -0.000015358351088132048,
          -0.0000012165534773224636,
          -0.00003383095705355358,
          0.000013649026788470645,
          -0.000007950394405720846,
          -0.000015314764586434417,
          0.000014172435842839591,
          0.000007321014332114665,
          -0.000006715587273905009,
          3.568408713289036e-8,
          -0.000013624581510560742,
          0.00002850321238602855,
          -0.000010328145093305236,
          -0.000015622484403314336,
          -0.00001191788479994893,
          0.000006405576829786794,
          0.000031307213452139655,
          -0.00001612067520273856,
          0.0000031179067313139885,
          -0.000004983716083372235,
          0.000017424515968491946,
          -0.000005934223421776098,
          0.00003591175049311815,
          0.0000022193548407425323,
          0.000018519080769555974,
          1.6134099476156033e-8,
          -0.000003116445398356185,
          -0.0000017497928376775223,
          0.000036549722738666005,
          -0.0000061729083717702915,
          0.000006309004246069201,
          0.000009428987233214368,
          -0.00002248566576070741,
          0.000009301342374356318,
          -6.942738201906213e-7,
          -0.000005435323975542324,
          0.000027475738714095225,
          0.000007823507598942645,
          0.000006295723795396808,
          0.000018963452287776504,
          0.000013864963696948564,
          -0.0000033567477751703305,
          -0.000007310170608441939,
          -0.000007432059159348342,
          0.000006085297047096544,
          0.00001848089013527515,
          -0.000008481739207462764,
          0.000026568331031021287,
          0.000015987587369990138,
          -0.0000014814700788650354,
          0.000002303629196310446,
          -0.00002939119369965969,
          0.00002099351022717148,
          0.0000015144781676708606,
          0.000016177686812784347,
          0.000012409903455539855,
          -0.00001197497976414627,
          -0.000003476955649551618,
          0.000010333822600874791,
          0.000014511488750919623,
          0.000003930044390799288,
          -0.00000605258760847798,
          -0.000015106759474155324,
          0.000001408757152365848,
          0.00001705957222142465,
          6.045556586552994e-7,
          -0.000010786516200313756,
          -0.000022980911877855428,
          0.0000019942751562919983,
          -0.000035003972504924704,
          -2.5755570218533214e-7,
          -0.0000064561290257837965,
          -0.00001883626566008573,
          -0.00001314206630817978,
          0.0000011634094381973423,
          0.000001203461540945778,
          -0.000005087138381207164,
          -0.000003313863980845529,
          -0.000015621765314544402,
          -0.000015589670281797076,
          0.0000019585425520688987,
          -0.000003999827857665769,
          -0.00001657262197841837,
          -0.0000055158572742564306,
          0.0000012598206165228027,
          0.000006650628979641828,
          -0.000004233756649998797,
          0.000023968699731340885,
          -0.000008849282258635152,
          1.257981990734251e-7,
          -0.0000010545737629098715,
          1.671174632525861e-7,
          0.000038432083377731654,
          -0.000026674997990406717,
          0.0000051613886391590205,
          -0.000010436007364822464,
          -0.00001541421418456141,
          0.000040817950829735604,
          -0.000004050048164892595,
          -0.000003991517664034709,
          9.789053868934193e-7,
          0.0000017797596074113277,
          0.000017204699925167954,
          -0.000022389793983809667,
          -0.00000834958160111768,
          -0.000004068668857626894,
          -0.000006305403046767798,
          -0.00001543556131917084,
          -0.000026721713584249707,
          0.00003823438716074725,
          0.000002462593225665893,
          -0.000005509641068588889,
          0.000017718125422689604,
          -0.000003851058250937314,
          0.000008258372928011595,
          -0.000004639133773058457,
          -0.0000062523227098053195,
          -0.000013750330225932625,
          0.000006624279338717912,
          0.000008326841918886901,
          -0.000008729065252872305,
          0.00001184361667063268,
          0.000011957105444341339,
          -0.0000010252663643352793,
          -0.000015490962835930765,
          0.000012775004562304042,
          -0.000009296853592518656,
          0.00001010428328365165,
          0.00001652607262853291,
          0.0000017391191432999444,
          0.000006772231810408613,
          0.00000422722473491916,
          -0.000008672435629481384,
          -0.000002944384873729803,
          0.0000075683441764331,
          -0.000003998633483226724,
          -0.0000033329911207898583,
          -0.000008752569769667233,
          -0.000016896290637352898,
          0.000008377996337400683,
          -0.000006532492981984997,
          -0.000021765302956179104,
          -0.000024270934672084883,
          0.0000017478075947024502,
          -0.00003093137348883951,
          9.39520481041807e-7,
          -0.000003590637922328682,
          0.000010297024146200559,
          -0.000014726619385232376,
          -0.000001592083607887486,
          0.000010939088560653917,
          -0.00003334156409035233,
          -5.47757582784374e-7,
          0.0000029561767835780245,
          -0.000007930853127747509,
          -0.000007346892000651674,
          -0.000013059824943057297,
          0.00001894757495217905,
          -0.0000011661231847514673,
          0.000006937838874568818,
          -0.0000013678826837990585,
          -0.000002468957880652419,
          -0.000018716079189847854,
          -0.000014944266405412648,
          0.00000866770476335,
          -0.000012605963815176082,
          0.000024108759411724708,
          -0.000007307180740162352,
          -0.000008422050640661923,
          -0.000013041796780999517,
          7.829029608243722e-7,
          0.000007706419435329859,
          -0.000006840691838188539,
          -0.0000015478153795500727,
          0.000006414296512991855,
          0.000004895232925083447,
          -0.000008227409866491659,
          -0.0000016840051953912716,
          -7.466758629779964e-7,
          -6.4992324438295e-7,
          -0.00003416236043434897,
          -0.000012344928967653108,
          -0.000059362554755430306,
          0.000007512919240043285,
          1.2403684008971753e-7,
          -0.000020619306431459275,
          -5.992818197958472e-7,
          0.000010264696383076763,
          -0.0000033254525066745,
          -0.0000058361304466215126,
          0.000018167992606388594,
          0.000003787042372401659,
          -0.000014332873862372467,
          -0.000019767672306485754,
          -0.00003165366008413939,
          2.477213001026791e-8,
          -0.000009547378812240626,
          -7.979628312173913e-7,
          -0.0000027872839593205646,
          -0.000005271186343886729,
          -6.76083885965366e-7,
          -4.833656066525525e-7,
          0.000005106186138758814,
          0.0000011976206054016171,
          -0.0000202619869276595,
          0.000014319171410495267,
          -0.000010380356548834691,
          -0.00002293545175991258,
          0.0000045674866818888325,
          0.00001073957229946146,
          -0.0000024147809743538852,
          0.000005257584748775437,
          0.00001277252997615779,
          0.000005793837660404792,
          0.0000021657252474472826,
          -0.000007515456839177088,
          -0.000002426851471642075,
          0.0000237854637991083,
          0.00001307624042224607,
          0.000010894774628955214,
          -0.00002425851215933294,
          0.000027032180103153133,
          -0.000012177959104911562,
          -0.000005508136933701041,
          0.000002677619997934409,
          -0.0000013527401426906685,
          0.000005306800715461149,
          -0.000013938237703175832,
          -0.00007350008118079124,
          0.00000824067038685804,
          0.000017236285188084152,
          0.0000070448337449381876,
          8.47570660203642e-8,
          -0.00001356750387992221,
          0.0000184425937621233,
          0.0000031192847216464266,
          -0.0000014720729922261084,
          0.000016647332653599967,
          -0.000011675286993331458,
          -0.000006912732526458599,
          0.000002971088513348656,
          0.000004012353666973772,
          0.00012098640264853424,
          0.000004005045869957249,
          -0.000003093277557802851,
          0.000006624939756733932,
          -0.000036490824353757895,
          0.000008746141026863758,
          -0.000015515173688133662,
          0.0000011534001391583831,
          0.000010787899691976371,
          0.000005538714571420348,
          -0.000001165470501704151,
          -0.000023836817852557528,
          0.000020230648948227022,
          2.1558745883757998e-7,
          -0.000005136588724323122,
          -0.000017415059320621744,
          -0.000004430286923372695,
          -0.000039462245108691145,
          0.000004401159811015595,
          0.0000021542195493557557,
          0.000010227798598816808,
          -0.00001274518305581847,
          2.0550036359797779e-7,
          -0.00003101480335876097,
          -0.000011569310097101426,
          0.000009233564625124017,
          0.000010741081455847902,
          -0.00001669482853131494,
          0.00002140005694429551,
          -0.000003881165228396462,
          0.000012636922328555804,
          0.000020007869338385397,
          0.000018224260749108083,
          -0.000007169296822745217,
          -0.0000042343102329427105,
          -0.0000030897355211060005,
          0.000001187634651875728,
          -0.000020733655474477182,
          -0.000006158791218383982,
          -0.00003810798190995629,
          -0.000006120159980921852,
          0.000016736865460075097,
          0.000008595913429499795,
          0.00001556464666958048,
          -0.0000028699519253033204,
          -0.0000054516983001167305,
          -0.000009572697671019256,
          -0.000028460904265987595,
          -0.0000034528860506686377,
          -0.000003319436989248299,
          -0.0000029456191570637593,
          0.0000014275695176714834,
          -0.0000020534116821449683,
          -0.000006274972066169624,
          0.000006943881793365813,
          -0.0000014544293606115093,
          -0.000004747559591561001,
          0.000005761315224260097,
          0.00001457188299377204,
          0.0000022114283125281427,
          -0.0000046831253565985094,
          0.000040689350992198294,
          2.2064034843826264e-7,
          0.00001605139734713819,
          -0.0000037858880032318056,
          -0.00002084197344195758,
          0.0000020062313426089857,
          0.000012488275128922731,
          -0.0000030161243467526055,
          0.000007641830806152815,
          3.4426406696822745e-7,
          2.1548603842005058e-8,
          -0.000008545111692282171,
          0.000003320172275582845,
          0.0000010345797427866213,
          0.000006106047018163901,
          0.000009289962875145485,
          -0.0000238407167954537,
          0.00001910214299305948,
          0.000007283075714502002,
          0.000032617805180555174,
          0.00002478633160673381,
          -0.00003700985621585546,
          -0.00000438393339190495,
          0.000011855921230471463,
          -0.000007992998974099545,
          -0.000017825340876183145,
          0.00001711878756323804,
          -0.000006718078900698508,
          -0.000003416839654530294,
          0.0000191697447454112,
          0.0000034811297385746937,
          -0.0000017729094448595821,
          0.0000230931468015219,
          0.000028457170029616477,
          -0.000001285339551082078,
          -0.0000030656669018293285,
          0.0000167422405997536,
          0.00000573810912070767,
          0.00003067010099177356,
          2.7208119546002278e-8,
          0.000007515815680614841,
          -0.000005432699170482562,
          0.000004662061106918116,
          -0.0000058729008374552375,
          -0.000024784047793330046,
          -0.00002215447307377761,
          0.0000035911493971040984,
          0.000003705948914405855,
          0.0000030941381078042074,
          0.00000987282063853014,
          0.000007974645626502462,
          0.0000071338168882382,
          0.0000024068437591439045,
          -0.000003944876233198644,
          -0.000010942630820286394,
          0.000010558445909595768,
          -0.000010568054056526084,
          -0.00001773245358144597,
          -0.000003446247144195377,
          -8.405269889852666e-7,
          0.00001123927550875344,
          0.00001248064481734041,
          -0.000006470260399318173,
          0.00002256836209766197,
          0.000002074830798446324,
          0.000015180407368045376,
          0.0000012264916479300618,
          0.0000015874336630460876,
          0.0000033788380324534024,
          6.472643088240785e-8,
          0.000006920577833035251,
          -0.00000925062778493442,
          -0.00002787913307746989,
          3.7567077906650504e-8,
          -0.00002798232427198137,
          0.000002974779711596304,
          0.0000066628505812304,
          0.000002125452679254626,
          0.00003799376601536704,
          -0.000008697477062494938,
          -0.000028610879661619566,
          0.000022244368462001323,
          -0.00007350486406868437,
          -0.00003268513808004787,
          -0.000007920447982351885,
          0.00003216679933965319,
          -0.000029642832779413475,
          0.0000011260072679572793,
          -0.000014783225376179158,
          6.526022394326052e-7,
          -6.007681216340558e-7,
          -0.00001941697046156926,
          -0.0000033734072064192824,
          0.00002070380226243675,
          0.000008495472650100359,
          0.0000033309876654261516,
          -0.000016180247495667177,
          -0.000004873498886464694,
          0.000007463162863934,
          4.833626906431825e-7,
          0.000017724364529073917,
          -0.0000064634532004642356,
          2.3943130991589085e-8,
          -6.994341800340938e-7,
          0.000014249945759214674,
          0.0000014838692281902022,
          0.000006650491850618141,
          -0.000005065048247032327,
          -0.000004548029411696839,
          -0.000005189095250355228,
          0.000006344599996235437
         ],
         "xaxis": "x",
         "yaxis": "y"
        }
       ],
       "layout": {
        "barmode": "relative",
        "legend": {
         "tracegroupgap": 0
        },
        "margin": {
         "t": 60
        },
        "template": {
         "data": {
          "bar": [
           {
            "error_x": {
             "color": "#2a3f5f"
            },
            "error_y": {
             "color": "#2a3f5f"
            },
            "marker": {
             "line": {
              "color": "#E5ECF6",
              "width": 0.5
             },
             "pattern": {
              "fillmode": "overlay",
              "size": 10,
              "solidity": 0.2
             }
            },
            "type": "bar"
           }
          ],
          "barpolar": [
           {
            "marker": {
             "line": {
              "color": "#E5ECF6",
              "width": 0.5
             },
             "pattern": {
              "fillmode": "overlay",
              "size": 10,
              "solidity": 0.2
             }
            },
            "type": "barpolar"
           }
          ],
          "carpet": [
           {
            "aaxis": {
             "endlinecolor": "#2a3f5f",
             "gridcolor": "white",
             "linecolor": "white",
             "minorgridcolor": "white",
             "startlinecolor": "#2a3f5f"
            },
            "baxis": {
             "endlinecolor": "#2a3f5f",
             "gridcolor": "white",
             "linecolor": "white",
             "minorgridcolor": "white",
             "startlinecolor": "#2a3f5f"
            },
            "type": "carpet"
           }
          ],
          "choropleth": [
           {
            "colorbar": {
             "outlinewidth": 0,
             "ticks": ""
            },
            "type": "choropleth"
           }
          ],
          "contour": [
           {
            "colorbar": {
             "outlinewidth": 0,
             "ticks": ""
            },
            "colorscale": [
             [
              0,
              "#0d0887"
             ],
             [
              0.1111111111111111,
              "#46039f"
             ],
             [
              0.2222222222222222,
              "#7201a8"
             ],
             [
              0.3333333333333333,
              "#9c179e"
             ],
             [
              0.4444444444444444,
              "#bd3786"
             ],
             [
              0.5555555555555556,
              "#d8576b"
             ],
             [
              0.6666666666666666,
              "#ed7953"
             ],
             [
              0.7777777777777778,
              "#fb9f3a"
             ],
             [
              0.8888888888888888,
              "#fdca26"
             ],
             [
              1,
              "#f0f921"
             ]
            ],
            "type": "contour"
           }
          ],
          "contourcarpet": [
           {
            "colorbar": {
             "outlinewidth": 0,
             "ticks": ""
            },
            "type": "contourcarpet"
           }
          ],
          "heatmap": [
           {
            "colorbar": {
             "outlinewidth": 0,
             "ticks": ""
            },
            "colorscale": [
             [
              0,
              "#0d0887"
             ],
             [
              0.1111111111111111,
              "#46039f"
             ],
             [
              0.2222222222222222,
              "#7201a8"
             ],
             [
              0.3333333333333333,
              "#9c179e"
             ],
             [
              0.4444444444444444,
              "#bd3786"
             ],
             [
              0.5555555555555556,
              "#d8576b"
             ],
             [
              0.6666666666666666,
              "#ed7953"
             ],
             [
              0.7777777777777778,
              "#fb9f3a"
             ],
             [
              0.8888888888888888,
              "#fdca26"
             ],
             [
              1,
              "#f0f921"
             ]
            ],
            "type": "heatmap"
           }
          ],
          "heatmapgl": [
           {
            "colorbar": {
             "outlinewidth": 0,
             "ticks": ""
            },
            "colorscale": [
             [
              0,
              "#0d0887"
             ],
             [
              0.1111111111111111,
              "#46039f"
             ],
             [
              0.2222222222222222,
              "#7201a8"
             ],
             [
              0.3333333333333333,
              "#9c179e"
             ],
             [
              0.4444444444444444,
              "#bd3786"
             ],
             [
              0.5555555555555556,
              "#d8576b"
             ],
             [
              0.6666666666666666,
              "#ed7953"
             ],
             [
              0.7777777777777778,
              "#fb9f3a"
             ],
             [
              0.8888888888888888,
              "#fdca26"
             ],
             [
              1,
              "#f0f921"
             ]
            ],
            "type": "heatmapgl"
           }
          ],
          "histogram": [
           {
            "marker": {
             "pattern": {
              "fillmode": "overlay",
              "size": 10,
              "solidity": 0.2
             }
            },
            "type": "histogram"
           }
          ],
          "histogram2d": [
           {
            "colorbar": {
             "outlinewidth": 0,
             "ticks": ""
            },
            "colorscale": [
             [
              0,
              "#0d0887"
             ],
             [
              0.1111111111111111,
              "#46039f"
             ],
             [
              0.2222222222222222,
              "#7201a8"
             ],
             [
              0.3333333333333333,
              "#9c179e"
             ],
             [
              0.4444444444444444,
              "#bd3786"
             ],
             [
              0.5555555555555556,
              "#d8576b"
             ],
             [
              0.6666666666666666,
              "#ed7953"
             ],
             [
              0.7777777777777778,
              "#fb9f3a"
             ],
             [
              0.8888888888888888,
              "#fdca26"
             ],
             [
              1,
              "#f0f921"
             ]
            ],
            "type": "histogram2d"
           }
          ],
          "histogram2dcontour": [
           {
            "colorbar": {
             "outlinewidth": 0,
             "ticks": ""
            },
            "colorscale": [
             [
              0,
              "#0d0887"
             ],
             [
              0.1111111111111111,
              "#46039f"
             ],
             [
              0.2222222222222222,
              "#7201a8"
             ],
             [
              0.3333333333333333,
              "#9c179e"
             ],
             [
              0.4444444444444444,
              "#bd3786"
             ],
             [
              0.5555555555555556,
              "#d8576b"
             ],
             [
              0.6666666666666666,
              "#ed7953"
             ],
             [
              0.7777777777777778,
              "#fb9f3a"
             ],
             [
              0.8888888888888888,
              "#fdca26"
             ],
             [
              1,
              "#f0f921"
             ]
            ],
            "type": "histogram2dcontour"
           }
          ],
          "mesh3d": [
           {
            "colorbar": {
             "outlinewidth": 0,
             "ticks": ""
            },
            "type": "mesh3d"
           }
          ],
          "parcoords": [
           {
            "line": {
             "colorbar": {
              "outlinewidth": 0,
              "ticks": ""
             }
            },
            "type": "parcoords"
           }
          ],
          "pie": [
           {
            "automargin": true,
            "type": "pie"
           }
          ],
          "scatter": [
           {
            "fillpattern": {
             "fillmode": "overlay",
             "size": 10,
             "solidity": 0.2
            },
            "type": "scatter"
           }
          ],
          "scatter3d": [
           {
            "line": {
             "colorbar": {
              "outlinewidth": 0,
              "ticks": ""
             }
            },
            "marker": {
             "colorbar": {
              "outlinewidth": 0,
              "ticks": ""
             }
            },
            "type": "scatter3d"
           }
          ],
          "scattercarpet": [
           {
            "marker": {
             "colorbar": {
              "outlinewidth": 0,
              "ticks": ""
             }
            },
            "type": "scattercarpet"
           }
          ],
          "scattergeo": [
           {
            "marker": {
             "colorbar": {
              "outlinewidth": 0,
              "ticks": ""
             }
            },
            "type": "scattergeo"
           }
          ],
          "scattergl": [
           {
            "marker": {
             "colorbar": {
              "outlinewidth": 0,
              "ticks": ""
             }
            },
            "type": "scattergl"
           }
          ],
          "scattermapbox": [
           {
            "marker": {
             "colorbar": {
              "outlinewidth": 0,
              "ticks": ""
             }
            },
            "type": "scattermapbox"
           }
          ],
          "scatterpolar": [
           {
            "marker": {
             "colorbar": {
              "outlinewidth": 0,
              "ticks": ""
             }
            },
            "type": "scatterpolar"
           }
          ],
          "scatterpolargl": [
           {
            "marker": {
             "colorbar": {
              "outlinewidth": 0,
              "ticks": ""
             }
            },
            "type": "scatterpolargl"
           }
          ],
          "scatterternary": [
           {
            "marker": {
             "colorbar": {
              "outlinewidth": 0,
              "ticks": ""
             }
            },
            "type": "scatterternary"
           }
          ],
          "surface": [
           {
            "colorbar": {
             "outlinewidth": 0,
             "ticks": ""
            },
            "colorscale": [
             [
              0,
              "#0d0887"
             ],
             [
              0.1111111111111111,
              "#46039f"
             ],
             [
              0.2222222222222222,
              "#7201a8"
             ],
             [
              0.3333333333333333,
              "#9c179e"
             ],
             [
              0.4444444444444444,
              "#bd3786"
             ],
             [
              0.5555555555555556,
              "#d8576b"
             ],
             [
              0.6666666666666666,
              "#ed7953"
             ],
             [
              0.7777777777777778,
              "#fb9f3a"
             ],
             [
              0.8888888888888888,
              "#fdca26"
             ],
             [
              1,
              "#f0f921"
             ]
            ],
            "type": "surface"
           }
          ],
          "table": [
           {
            "cells": {
             "fill": {
              "color": "#EBF0F8"
             },
             "line": {
              "color": "white"
             }
            },
            "header": {
             "fill": {
              "color": "#C8D4E3"
             },
             "line": {
              "color": "white"
             }
            },
            "type": "table"
           }
          ]
         },
         "layout": {
          "annotationdefaults": {
           "arrowcolor": "#2a3f5f",
           "arrowhead": 0,
           "arrowwidth": 1
          },
          "autotypenumbers": "strict",
          "coloraxis": {
           "colorbar": {
            "outlinewidth": 0,
            "ticks": ""
           }
          },
          "colorscale": {
           "diverging": [
            [
             0,
             "#8e0152"
            ],
            [
             0.1,
             "#c51b7d"
            ],
            [
             0.2,
             "#de77ae"
            ],
            [
             0.3,
             "#f1b6da"
            ],
            [
             0.4,
             "#fde0ef"
            ],
            [
             0.5,
             "#f7f7f7"
            ],
            [
             0.6,
             "#e6f5d0"
            ],
            [
             0.7,
             "#b8e186"
            ],
            [
             0.8,
             "#7fbc41"
            ],
            [
             0.9,
             "#4d9221"
            ],
            [
             1,
             "#276419"
            ]
           ],
           "sequential": [
            [
             0,
             "#0d0887"
            ],
            [
             0.1111111111111111,
             "#46039f"
            ],
            [
             0.2222222222222222,
             "#7201a8"
            ],
            [
             0.3333333333333333,
             "#9c179e"
            ],
            [
             0.4444444444444444,
             "#bd3786"
            ],
            [
             0.5555555555555556,
             "#d8576b"
            ],
            [
             0.6666666666666666,
             "#ed7953"
            ],
            [
             0.7777777777777778,
             "#fb9f3a"
            ],
            [
             0.8888888888888888,
             "#fdca26"
            ],
            [
             1,
             "#f0f921"
            ]
           ],
           "sequentialminus": [
            [
             0,
             "#0d0887"
            ],
            [
             0.1111111111111111,
             "#46039f"
            ],
            [
             0.2222222222222222,
             "#7201a8"
            ],
            [
             0.3333333333333333,
             "#9c179e"
            ],
            [
             0.4444444444444444,
             "#bd3786"
            ],
            [
             0.5555555555555556,
             "#d8576b"
            ],
            [
             0.6666666666666666,
             "#ed7953"
            ],
            [
             0.7777777777777778,
             "#fb9f3a"
            ],
            [
             0.8888888888888888,
             "#fdca26"
            ],
            [
             1,
             "#f0f921"
            ]
           ]
          },
          "colorway": [
           "#636efa",
           "#EF553B",
           "#00cc96",
           "#ab63fa",
           "#FFA15A",
           "#19d3f3",
           "#FF6692",
           "#B6E880",
           "#FF97FF",
           "#FECB52"
          ],
          "font": {
           "color": "#2a3f5f"
          },
          "geo": {
           "bgcolor": "white",
           "lakecolor": "white",
           "landcolor": "#E5ECF6",
           "showlakes": true,
           "showland": true,
           "subunitcolor": "white"
          },
          "hoverlabel": {
           "align": "left"
          },
          "hovermode": "closest",
          "mapbox": {
           "style": "light"
          },
          "paper_bgcolor": "white",
          "plot_bgcolor": "#E5ECF6",
          "polar": {
           "angularaxis": {
            "gridcolor": "white",
            "linecolor": "white",
            "ticks": ""
           },
           "bgcolor": "#E5ECF6",
           "radialaxis": {
            "gridcolor": "white",
            "linecolor": "white",
            "ticks": ""
           }
          },
          "scene": {
           "xaxis": {
            "backgroundcolor": "#E5ECF6",
            "gridcolor": "white",
            "gridwidth": 2,
            "linecolor": "white",
            "showbackground": true,
            "ticks": "",
            "zerolinecolor": "white"
           },
           "yaxis": {
            "backgroundcolor": "#E5ECF6",
            "gridcolor": "white",
            "gridwidth": 2,
            "linecolor": "white",
            "showbackground": true,
            "ticks": "",
            "zerolinecolor": "white"
           },
           "zaxis": {
            "backgroundcolor": "#E5ECF6",
            "gridcolor": "white",
            "gridwidth": 2,
            "linecolor": "white",
            "showbackground": true,
            "ticks": "",
            "zerolinecolor": "white"
           }
          },
          "shapedefaults": {
           "line": {
            "color": "#2a3f5f"
           }
          },
          "ternary": {
           "aaxis": {
            "gridcolor": "white",
            "linecolor": "white",
            "ticks": ""
           },
           "baxis": {
            "gridcolor": "white",
            "linecolor": "white",
            "ticks": ""
           },
           "bgcolor": "#E5ECF6",
           "caxis": {
            "gridcolor": "white",
            "linecolor": "white",
            "ticks": ""
           }
          },
          "title": {
           "x": 0.05
          },
          "xaxis": {
           "automargin": true,
           "gridcolor": "white",
           "linecolor": "white",
           "ticks": "",
           "title": {
            "standoff": 15
           },
           "zerolinecolor": "white",
           "zerolinewidth": 2
          },
          "yaxis": {
           "automargin": true,
           "gridcolor": "white",
           "linecolor": "white",
           "ticks": "",
           "title": {
            "standoff": 15
           },
           "zerolinecolor": "white",
           "zerolinewidth": 2
          }
         }
        },
        "xaxis": {
         "anchor": "y",
         "domain": [
          0,
          1
         ],
         "exponentformat": "e",
         "showexponent": "all",
         "title": {
          "text": "contribution"
         }
        },
        "yaxis": {
         "anchor": "x",
         "domain": [
          0,
          1
         ],
         "title": {
          "text": "count"
         }
        }
       }
      }
     },
     "metadata": {},
     "output_type": "display_data"
    }
   ],
   "source": [
    "fig = px.histogram(res[0][0], x=\"contribution\", \n",
    "                #    range_x=(-1e-5, 1e-5)\n",
    "                   )\n",
    "# fig.update_layout(xaxis_tickformat = '.1s')\n",
    "fig.update_layout(\n",
    "    xaxis = dict(\n",
    "        showexponent = 'all',\n",
    "        exponentformat = 'e'\n",
    "    )\n",
    ")\n",
    "fig.show()"
   ]
  }
 ],
 "metadata": {
  "kernelspec": {
   "display_name": ".venv",
   "language": "python",
   "name": "python3"
  },
  "language_info": {
   "codemirror_mode": {
    "name": "ipython",
    "version": 3
   },
   "file_extension": ".py",
   "mimetype": "text/x-python",
   "name": "python",
   "nbconvert_exporter": "python",
   "pygments_lexer": "ipython3",
   "version": "3.12.5"
  }
 },
 "nbformat": 4,
 "nbformat_minor": 2
}
