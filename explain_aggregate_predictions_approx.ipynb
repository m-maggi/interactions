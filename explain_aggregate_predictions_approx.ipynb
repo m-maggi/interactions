{
 "cells": [
  {
   "cell_type": "code",
   "execution_count": 1,
   "metadata": {},
   "outputs": [
    {
     "data": {
      "text/html": [
       "<div><style>\n",
       ".dataframe > thead > tr,\n",
       ".dataframe > tbody > tr {\n",
       "  text-align: right;\n",
       "  white-space: pre-wrap;\n",
       "}\n",
       "</style>\n",
       "<small>shape: (1_000_000, 7)</small><table border=\"1\" class=\"dataframe\"><thead><tr><th>year</th><th>town</th><th>driver_age</th><th>car_weight</th><th>car_power</th><th>car_age</th><th>claim_nb</th></tr><tr><td>f64</td><td>f64</td><td>f64</td><td>f64</td><td>f64</td><td>f64</td><td>i32</td></tr></thead><tbody><tr><td>2018.0</td><td>1.0</td><td>51.0</td><td>1760.0</td><td>173.0</td><td>3.0</td><td>0</td></tr><tr><td>2019.0</td><td>1.0</td><td>41.0</td><td>1760.0</td><td>248.0</td><td>2.0</td><td>0</td></tr><tr><td>2018.0</td><td>1.0</td><td>25.0</td><td>1240.0</td><td>111.0</td><td>2.0</td><td>0</td></tr><tr><td>2019.0</td><td>0.0</td><td>40.0</td><td>1010.0</td><td>83.0</td><td>9.0</td><td>0</td></tr><tr><td>2018.0</td><td>0.0</td><td>43.0</td><td>2180.0</td><td>169.0</td><td>5.0</td><td>0</td></tr><tr><td>&hellip;</td><td>&hellip;</td><td>&hellip;</td><td>&hellip;</td><td>&hellip;</td><td>&hellip;</td><td>&hellip;</td></tr><tr><td>2019.0</td><td>1.0</td><td>45.0</td><td>1090.0</td><td>62.0</td><td>2.0</td><td>0</td></tr><tr><td>2019.0</td><td>1.0</td><td>45.0</td><td>1180.0</td><td>93.0</td><td>4.0</td><td>0</td></tr><tr><td>2018.0</td><td>1.0</td><td>31.0</td><td>1060.0</td><td>57.0</td><td>1.0</td><td>0</td></tr><tr><td>2019.0</td><td>1.0</td><td>28.0</td><td>1910.0</td><td>149.0</td><td>0.0</td><td>0</td></tr><tr><td>2019.0</td><td>1.0</td><td>52.0</td><td>1230.0</td><td>99.0</td><td>3.0</td><td>1</td></tr></tbody></table></div>"
      ],
      "text/plain": [
       "shape: (1_000_000, 7)\n",
       "┌────────┬──────┬────────────┬────────────┬───────────┬─────────┬──────────┐\n",
       "│ year   ┆ town ┆ driver_age ┆ car_weight ┆ car_power ┆ car_age ┆ claim_nb │\n",
       "│ ---    ┆ ---  ┆ ---        ┆ ---        ┆ ---       ┆ ---     ┆ ---      │\n",
       "│ f64    ┆ f64  ┆ f64        ┆ f64        ┆ f64       ┆ f64     ┆ i32      │\n",
       "╞════════╪══════╪════════════╪════════════╪═══════════╪═════════╪══════════╡\n",
       "│ 2018.0 ┆ 1.0  ┆ 51.0       ┆ 1760.0     ┆ 173.0     ┆ 3.0     ┆ 0        │\n",
       "│ 2019.0 ┆ 1.0  ┆ 41.0       ┆ 1760.0     ┆ 248.0     ┆ 2.0     ┆ 0        │\n",
       "│ 2018.0 ┆ 1.0  ┆ 25.0       ┆ 1240.0     ┆ 111.0     ┆ 2.0     ┆ 0        │\n",
       "│ 2019.0 ┆ 0.0  ┆ 40.0       ┆ 1010.0     ┆ 83.0      ┆ 9.0     ┆ 0        │\n",
       "│ 2018.0 ┆ 0.0  ┆ 43.0       ┆ 2180.0     ┆ 169.0     ┆ 5.0     ┆ 0        │\n",
       "│ …      ┆ …    ┆ …          ┆ …          ┆ …         ┆ …       ┆ …        │\n",
       "│ 2019.0 ┆ 1.0  ┆ 45.0       ┆ 1090.0     ┆ 62.0      ┆ 2.0     ┆ 0        │\n",
       "│ 2019.0 ┆ 1.0  ┆ 45.0       ┆ 1180.0     ┆ 93.0      ┆ 4.0     ┆ 0        │\n",
       "│ 2018.0 ┆ 1.0  ┆ 31.0       ┆ 1060.0     ┆ 57.0      ┆ 1.0     ┆ 0        │\n",
       "│ 2019.0 ┆ 1.0  ┆ 28.0       ┆ 1910.0     ┆ 149.0     ┆ 0.0     ┆ 0        │\n",
       "│ 2019.0 ┆ 1.0  ┆ 52.0       ┆ 1230.0     ┆ 99.0      ┆ 3.0     ┆ 1        │\n",
       "└────────┴──────┴────────────┴────────────┴───────────┴─────────┴──────────┘"
      ]
     },
     "execution_count": 1,
     "metadata": {},
     "output_type": "execute_result"
    }
   ],
   "source": [
    "import numpy as np\n",
    "import pandas as pd\n",
    "import polars as pl\n",
    "import matplotlib.pyplot as plt\n",
    "from sklearn.compose import ColumnTransformer\n",
    "from sklearn.preprocessing import OneHotEncoder, KBinsDiscretizer\n",
    "\n",
    "\n",
    "if False:  # Fetch from OpenML\n",
    "    from sklearn.datasets import fetch_openml\n",
    "    \n",
    "    df = fetch_openml(data_id=45106, parser=\"pandas\").frame\n",
    "else:     # Fetch from repo\n",
    "    df = pl.read_parquet(\"df.parquet\")\n",
    "df"
   ]
  },
  {
   "cell_type": "code",
   "execution_count": 2,
   "metadata": {},
   "outputs": [
    {
     "data": {
      "text/html": [
       "<div><style>\n",
       ".dataframe > thead > tr,\n",
       ".dataframe > tbody > tr {\n",
       "  text-align: right;\n",
       "  white-space: pre-wrap;\n",
       "}\n",
       "</style>\n",
       "<small>shape: (1_000_000, 6)</small><table border=\"1\" class=\"dataframe\"><thead><tr><th>driver_age</th><th>car_weight</th><th>car_power</th><th>car_age</th><th>claim_nb</th><th>year</th></tr><tr><td>f64</td><td>f64</td><td>f64</td><td>f64</td><td>i32</td><td>f64</td></tr></thead><tbody><tr><td>3.0</td><td>4.0</td><td>4.0</td><td>2.0</td><td>0</td><td>2018.0</td></tr><tr><td>2.0</td><td>4.0</td><td>4.0</td><td>2.0</td><td>0</td><td>2019.0</td></tr><tr><td>0.0</td><td>2.0</td><td>2.0</td><td>2.0</td><td>0</td><td>2018.0</td></tr><tr><td>1.0</td><td>0.0</td><td>1.0</td><td>4.0</td><td>0</td><td>2019.0</td></tr><tr><td>2.0</td><td>4.0</td><td>4.0</td><td>3.0</td><td>0</td><td>2018.0</td></tr><tr><td>&hellip;</td><td>&hellip;</td><td>&hellip;</td><td>&hellip;</td><td>&hellip;</td><td>&hellip;</td></tr><tr><td>2.0</td><td>1.0</td><td>0.0</td><td>2.0</td><td>0</td><td>2019.0</td></tr><tr><td>2.0</td><td>2.0</td><td>1.0</td><td>3.0</td><td>0</td><td>2019.0</td></tr><tr><td>0.0</td><td>1.0</td><td>0.0</td><td>1.0</td><td>0</td><td>2018.0</td></tr><tr><td>0.0</td><td>4.0</td><td>3.0</td><td>0.0</td><td>0</td><td>2019.0</td></tr><tr><td>3.0</td><td>2.0</td><td>1.0</td><td>2.0</td><td>1</td><td>2019.0</td></tr></tbody></table></div>"
      ],
      "text/plain": [
       "shape: (1_000_000, 6)\n",
       "┌────────────┬────────────┬───────────┬─────────┬──────────┬────────┐\n",
       "│ driver_age ┆ car_weight ┆ car_power ┆ car_age ┆ claim_nb ┆ year   │\n",
       "│ ---        ┆ ---        ┆ ---       ┆ ---     ┆ ---      ┆ ---    │\n",
       "│ f64        ┆ f64        ┆ f64       ┆ f64     ┆ i32      ┆ f64    │\n",
       "╞════════════╪════════════╪═══════════╪═════════╪══════════╪════════╡\n",
       "│ 3.0        ┆ 4.0        ┆ 4.0       ┆ 2.0     ┆ 0        ┆ 2018.0 │\n",
       "│ 2.0        ┆ 4.0        ┆ 4.0       ┆ 2.0     ┆ 0        ┆ 2019.0 │\n",
       "│ 0.0        ┆ 2.0        ┆ 2.0       ┆ 2.0     ┆ 0        ┆ 2018.0 │\n",
       "│ 1.0        ┆ 0.0        ┆ 1.0       ┆ 4.0     ┆ 0        ┆ 2019.0 │\n",
       "│ 2.0        ┆ 4.0        ┆ 4.0       ┆ 3.0     ┆ 0        ┆ 2018.0 │\n",
       "│ …          ┆ …          ┆ …         ┆ …       ┆ …        ┆ …      │\n",
       "│ 2.0        ┆ 1.0        ┆ 0.0       ┆ 2.0     ┆ 0        ┆ 2019.0 │\n",
       "│ 2.0        ┆ 2.0        ┆ 1.0       ┆ 3.0     ┆ 0        ┆ 2019.0 │\n",
       "│ 0.0        ┆ 1.0        ┆ 0.0       ┆ 1.0     ┆ 0        ┆ 2018.0 │\n",
       "│ 0.0        ┆ 4.0        ┆ 3.0       ┆ 0.0     ┆ 0        ┆ 2019.0 │\n",
       "│ 3.0        ┆ 2.0        ┆ 1.0       ┆ 2.0     ┆ 1        ┆ 2019.0 │\n",
       "└────────────┴────────────┴───────────┴─────────┴──────────┴────────┘"
      ]
     },
     "execution_count": 2,
     "metadata": {},
     "output_type": "execute_result"
    }
   ],
   "source": [
    "vars_discretize = [\"driver_age\", \"car_weight\", \"car_power\", \"car_age\"]\n",
    "covs = vars_discretize\n",
    "kbins_ordinal = KBinsDiscretizer(n_bins=5, encode=\"ordinal\").set_output(transform=\"polars\")\n",
    "ordinal_data = kbins_ordinal.fit_transform(df[vars_discretize]).with_columns(\n",
    "    df[\"claim_nb\"],\n",
    "    df[\"year\"]\n",
    ")\n",
    "ordinal_data"
   ]
  },
  {
   "cell_type": "code",
   "execution_count": 3,
   "metadata": {},
   "outputs": [],
   "source": [
    "ohe = OneHotEncoder(sparse_output=False).set_output(transform=\"polars\")\n",
    "X_train = ohe.fit_transform(ordinal_data.select(\n",
    "    pl.all().exclude(\"claim_nb\", \"year\")\n",
    "))"
   ]
  },
  {
   "cell_type": "code",
   "execution_count": 4,
   "metadata": {},
   "outputs": [
    {
     "data": {
      "text/html": [
       "<style>#sk-container-id-1 {\n",
       "  /* Definition of color scheme common for light and dark mode */\n",
       "  --sklearn-color-text: black;\n",
       "  --sklearn-color-line: gray;\n",
       "  /* Definition of color scheme for unfitted estimators */\n",
       "  --sklearn-color-unfitted-level-0: #fff5e6;\n",
       "  --sklearn-color-unfitted-level-1: #f6e4d2;\n",
       "  --sklearn-color-unfitted-level-2: #ffe0b3;\n",
       "  --sklearn-color-unfitted-level-3: chocolate;\n",
       "  /* Definition of color scheme for fitted estimators */\n",
       "  --sklearn-color-fitted-level-0: #f0f8ff;\n",
       "  --sklearn-color-fitted-level-1: #d4ebff;\n",
       "  --sklearn-color-fitted-level-2: #b3dbfd;\n",
       "  --sklearn-color-fitted-level-3: cornflowerblue;\n",
       "\n",
       "  /* Specific color for light theme */\n",
       "  --sklearn-color-text-on-default-background: var(--sg-text-color, var(--theme-code-foreground, var(--jp-content-font-color1, black)));\n",
       "  --sklearn-color-background: var(--sg-background-color, var(--theme-background, var(--jp-layout-color0, white)));\n",
       "  --sklearn-color-border-box: var(--sg-text-color, var(--theme-code-foreground, var(--jp-content-font-color1, black)));\n",
       "  --sklearn-color-icon: #696969;\n",
       "\n",
       "  @media (prefers-color-scheme: dark) {\n",
       "    /* Redefinition of color scheme for dark theme */\n",
       "    --sklearn-color-text-on-default-background: var(--sg-text-color, var(--theme-code-foreground, var(--jp-content-font-color1, white)));\n",
       "    --sklearn-color-background: var(--sg-background-color, var(--theme-background, var(--jp-layout-color0, #111)));\n",
       "    --sklearn-color-border-box: var(--sg-text-color, var(--theme-code-foreground, var(--jp-content-font-color1, white)));\n",
       "    --sklearn-color-icon: #878787;\n",
       "  }\n",
       "}\n",
       "\n",
       "#sk-container-id-1 {\n",
       "  color: var(--sklearn-color-text);\n",
       "}\n",
       "\n",
       "#sk-container-id-1 pre {\n",
       "  padding: 0;\n",
       "}\n",
       "\n",
       "#sk-container-id-1 input.sk-hidden--visually {\n",
       "  border: 0;\n",
       "  clip: rect(1px 1px 1px 1px);\n",
       "  clip: rect(1px, 1px, 1px, 1px);\n",
       "  height: 1px;\n",
       "  margin: -1px;\n",
       "  overflow: hidden;\n",
       "  padding: 0;\n",
       "  position: absolute;\n",
       "  width: 1px;\n",
       "}\n",
       "\n",
       "#sk-container-id-1 div.sk-dashed-wrapped {\n",
       "  border: 1px dashed var(--sklearn-color-line);\n",
       "  margin: 0 0.4em 0.5em 0.4em;\n",
       "  box-sizing: border-box;\n",
       "  padding-bottom: 0.4em;\n",
       "  background-color: var(--sklearn-color-background);\n",
       "}\n",
       "\n",
       "#sk-container-id-1 div.sk-container {\n",
       "  /* jupyter's `normalize.less` sets `[hidden] { display: none; }`\n",
       "     but bootstrap.min.css set `[hidden] { display: none !important; }`\n",
       "     so we also need the `!important` here to be able to override the\n",
       "     default hidden behavior on the sphinx rendered scikit-learn.org.\n",
       "     See: https://github.com/scikit-learn/scikit-learn/issues/21755 */\n",
       "  display: inline-block !important;\n",
       "  position: relative;\n",
       "}\n",
       "\n",
       "#sk-container-id-1 div.sk-text-repr-fallback {\n",
       "  display: none;\n",
       "}\n",
       "\n",
       "div.sk-parallel-item,\n",
       "div.sk-serial,\n",
       "div.sk-item {\n",
       "  /* draw centered vertical line to link estimators */\n",
       "  background-image: linear-gradient(var(--sklearn-color-text-on-default-background), var(--sklearn-color-text-on-default-background));\n",
       "  background-size: 2px 100%;\n",
       "  background-repeat: no-repeat;\n",
       "  background-position: center center;\n",
       "}\n",
       "\n",
       "/* Parallel-specific style estimator block */\n",
       "\n",
       "#sk-container-id-1 div.sk-parallel-item::after {\n",
       "  content: \"\";\n",
       "  width: 100%;\n",
       "  border-bottom: 2px solid var(--sklearn-color-text-on-default-background);\n",
       "  flex-grow: 1;\n",
       "}\n",
       "\n",
       "#sk-container-id-1 div.sk-parallel {\n",
       "  display: flex;\n",
       "  align-items: stretch;\n",
       "  justify-content: center;\n",
       "  background-color: var(--sklearn-color-background);\n",
       "  position: relative;\n",
       "}\n",
       "\n",
       "#sk-container-id-1 div.sk-parallel-item {\n",
       "  display: flex;\n",
       "  flex-direction: column;\n",
       "}\n",
       "\n",
       "#sk-container-id-1 div.sk-parallel-item:first-child::after {\n",
       "  align-self: flex-end;\n",
       "  width: 50%;\n",
       "}\n",
       "\n",
       "#sk-container-id-1 div.sk-parallel-item:last-child::after {\n",
       "  align-self: flex-start;\n",
       "  width: 50%;\n",
       "}\n",
       "\n",
       "#sk-container-id-1 div.sk-parallel-item:only-child::after {\n",
       "  width: 0;\n",
       "}\n",
       "\n",
       "/* Serial-specific style estimator block */\n",
       "\n",
       "#sk-container-id-1 div.sk-serial {\n",
       "  display: flex;\n",
       "  flex-direction: column;\n",
       "  align-items: center;\n",
       "  background-color: var(--sklearn-color-background);\n",
       "  padding-right: 1em;\n",
       "  padding-left: 1em;\n",
       "}\n",
       "\n",
       "\n",
       "/* Toggleable style: style used for estimator/Pipeline/ColumnTransformer box that is\n",
       "clickable and can be expanded/collapsed.\n",
       "- Pipeline and ColumnTransformer use this feature and define the default style\n",
       "- Estimators will overwrite some part of the style using the `sk-estimator` class\n",
       "*/\n",
       "\n",
       "/* Pipeline and ColumnTransformer style (default) */\n",
       "\n",
       "#sk-container-id-1 div.sk-toggleable {\n",
       "  /* Default theme specific background. It is overwritten whether we have a\n",
       "  specific estimator or a Pipeline/ColumnTransformer */\n",
       "  background-color: var(--sklearn-color-background);\n",
       "}\n",
       "\n",
       "/* Toggleable label */\n",
       "#sk-container-id-1 label.sk-toggleable__label {\n",
       "  cursor: pointer;\n",
       "  display: block;\n",
       "  width: 100%;\n",
       "  margin-bottom: 0;\n",
       "  padding: 0.5em;\n",
       "  box-sizing: border-box;\n",
       "  text-align: center;\n",
       "}\n",
       "\n",
       "#sk-container-id-1 label.sk-toggleable__label-arrow:before {\n",
       "  /* Arrow on the left of the label */\n",
       "  content: \"▸\";\n",
       "  float: left;\n",
       "  margin-right: 0.25em;\n",
       "  color: var(--sklearn-color-icon);\n",
       "}\n",
       "\n",
       "#sk-container-id-1 label.sk-toggleable__label-arrow:hover:before {\n",
       "  color: var(--sklearn-color-text);\n",
       "}\n",
       "\n",
       "/* Toggleable content - dropdown */\n",
       "\n",
       "#sk-container-id-1 div.sk-toggleable__content {\n",
       "  max-height: 0;\n",
       "  max-width: 0;\n",
       "  overflow: hidden;\n",
       "  text-align: left;\n",
       "  /* unfitted */\n",
       "  background-color: var(--sklearn-color-unfitted-level-0);\n",
       "}\n",
       "\n",
       "#sk-container-id-1 div.sk-toggleable__content.fitted {\n",
       "  /* fitted */\n",
       "  background-color: var(--sklearn-color-fitted-level-0);\n",
       "}\n",
       "\n",
       "#sk-container-id-1 div.sk-toggleable__content pre {\n",
       "  margin: 0.2em;\n",
       "  border-radius: 0.25em;\n",
       "  color: var(--sklearn-color-text);\n",
       "  /* unfitted */\n",
       "  background-color: var(--sklearn-color-unfitted-level-0);\n",
       "}\n",
       "\n",
       "#sk-container-id-1 div.sk-toggleable__content.fitted pre {\n",
       "  /* unfitted */\n",
       "  background-color: var(--sklearn-color-fitted-level-0);\n",
       "}\n",
       "\n",
       "#sk-container-id-1 input.sk-toggleable__control:checked~div.sk-toggleable__content {\n",
       "  /* Expand drop-down */\n",
       "  max-height: 200px;\n",
       "  max-width: 100%;\n",
       "  overflow: auto;\n",
       "}\n",
       "\n",
       "#sk-container-id-1 input.sk-toggleable__control:checked~label.sk-toggleable__label-arrow:before {\n",
       "  content: \"▾\";\n",
       "}\n",
       "\n",
       "/* Pipeline/ColumnTransformer-specific style */\n",
       "\n",
       "#sk-container-id-1 div.sk-label input.sk-toggleable__control:checked~label.sk-toggleable__label {\n",
       "  color: var(--sklearn-color-text);\n",
       "  background-color: var(--sklearn-color-unfitted-level-2);\n",
       "}\n",
       "\n",
       "#sk-container-id-1 div.sk-label.fitted input.sk-toggleable__control:checked~label.sk-toggleable__label {\n",
       "  background-color: var(--sklearn-color-fitted-level-2);\n",
       "}\n",
       "\n",
       "/* Estimator-specific style */\n",
       "\n",
       "/* Colorize estimator box */\n",
       "#sk-container-id-1 div.sk-estimator input.sk-toggleable__control:checked~label.sk-toggleable__label {\n",
       "  /* unfitted */\n",
       "  background-color: var(--sklearn-color-unfitted-level-2);\n",
       "}\n",
       "\n",
       "#sk-container-id-1 div.sk-estimator.fitted input.sk-toggleable__control:checked~label.sk-toggleable__label {\n",
       "  /* fitted */\n",
       "  background-color: var(--sklearn-color-fitted-level-2);\n",
       "}\n",
       "\n",
       "#sk-container-id-1 div.sk-label label.sk-toggleable__label,\n",
       "#sk-container-id-1 div.sk-label label {\n",
       "  /* The background is the default theme color */\n",
       "  color: var(--sklearn-color-text-on-default-background);\n",
       "}\n",
       "\n",
       "/* On hover, darken the color of the background */\n",
       "#sk-container-id-1 div.sk-label:hover label.sk-toggleable__label {\n",
       "  color: var(--sklearn-color-text);\n",
       "  background-color: var(--sklearn-color-unfitted-level-2);\n",
       "}\n",
       "\n",
       "/* Label box, darken color on hover, fitted */\n",
       "#sk-container-id-1 div.sk-label.fitted:hover label.sk-toggleable__label.fitted {\n",
       "  color: var(--sklearn-color-text);\n",
       "  background-color: var(--sklearn-color-fitted-level-2);\n",
       "}\n",
       "\n",
       "/* Estimator label */\n",
       "\n",
       "#sk-container-id-1 div.sk-label label {\n",
       "  font-family: monospace;\n",
       "  font-weight: bold;\n",
       "  display: inline-block;\n",
       "  line-height: 1.2em;\n",
       "}\n",
       "\n",
       "#sk-container-id-1 div.sk-label-container {\n",
       "  text-align: center;\n",
       "}\n",
       "\n",
       "/* Estimator-specific */\n",
       "#sk-container-id-1 div.sk-estimator {\n",
       "  font-family: monospace;\n",
       "  border: 1px dotted var(--sklearn-color-border-box);\n",
       "  border-radius: 0.25em;\n",
       "  box-sizing: border-box;\n",
       "  margin-bottom: 0.5em;\n",
       "  /* unfitted */\n",
       "  background-color: var(--sklearn-color-unfitted-level-0);\n",
       "}\n",
       "\n",
       "#sk-container-id-1 div.sk-estimator.fitted {\n",
       "  /* fitted */\n",
       "  background-color: var(--sklearn-color-fitted-level-0);\n",
       "}\n",
       "\n",
       "/* on hover */\n",
       "#sk-container-id-1 div.sk-estimator:hover {\n",
       "  /* unfitted */\n",
       "  background-color: var(--sklearn-color-unfitted-level-2);\n",
       "}\n",
       "\n",
       "#sk-container-id-1 div.sk-estimator.fitted:hover {\n",
       "  /* fitted */\n",
       "  background-color: var(--sklearn-color-fitted-level-2);\n",
       "}\n",
       "\n",
       "/* Specification for estimator info (e.g. \"i\" and \"?\") */\n",
       "\n",
       "/* Common style for \"i\" and \"?\" */\n",
       "\n",
       ".sk-estimator-doc-link,\n",
       "a:link.sk-estimator-doc-link,\n",
       "a:visited.sk-estimator-doc-link {\n",
       "  float: right;\n",
       "  font-size: smaller;\n",
       "  line-height: 1em;\n",
       "  font-family: monospace;\n",
       "  background-color: var(--sklearn-color-background);\n",
       "  border-radius: 1em;\n",
       "  height: 1em;\n",
       "  width: 1em;\n",
       "  text-decoration: none !important;\n",
       "  margin-left: 1ex;\n",
       "  /* unfitted */\n",
       "  border: var(--sklearn-color-unfitted-level-1) 1pt solid;\n",
       "  color: var(--sklearn-color-unfitted-level-1);\n",
       "}\n",
       "\n",
       ".sk-estimator-doc-link.fitted,\n",
       "a:link.sk-estimator-doc-link.fitted,\n",
       "a:visited.sk-estimator-doc-link.fitted {\n",
       "  /* fitted */\n",
       "  border: var(--sklearn-color-fitted-level-1) 1pt solid;\n",
       "  color: var(--sklearn-color-fitted-level-1);\n",
       "}\n",
       "\n",
       "/* On hover */\n",
       "div.sk-estimator:hover .sk-estimator-doc-link:hover,\n",
       ".sk-estimator-doc-link:hover,\n",
       "div.sk-label-container:hover .sk-estimator-doc-link:hover,\n",
       ".sk-estimator-doc-link:hover {\n",
       "  /* unfitted */\n",
       "  background-color: var(--sklearn-color-unfitted-level-3);\n",
       "  color: var(--sklearn-color-background);\n",
       "  text-decoration: none;\n",
       "}\n",
       "\n",
       "div.sk-estimator.fitted:hover .sk-estimator-doc-link.fitted:hover,\n",
       ".sk-estimator-doc-link.fitted:hover,\n",
       "div.sk-label-container:hover .sk-estimator-doc-link.fitted:hover,\n",
       ".sk-estimator-doc-link.fitted:hover {\n",
       "  /* fitted */\n",
       "  background-color: var(--sklearn-color-fitted-level-3);\n",
       "  color: var(--sklearn-color-background);\n",
       "  text-decoration: none;\n",
       "}\n",
       "\n",
       "/* Span, style for the box shown on hovering the info icon */\n",
       ".sk-estimator-doc-link span {\n",
       "  display: none;\n",
       "  z-index: 9999;\n",
       "  position: relative;\n",
       "  font-weight: normal;\n",
       "  right: .2ex;\n",
       "  padding: .5ex;\n",
       "  margin: .5ex;\n",
       "  width: min-content;\n",
       "  min-width: 20ex;\n",
       "  max-width: 50ex;\n",
       "  color: var(--sklearn-color-text);\n",
       "  box-shadow: 2pt 2pt 4pt #999;\n",
       "  /* unfitted */\n",
       "  background: var(--sklearn-color-unfitted-level-0);\n",
       "  border: .5pt solid var(--sklearn-color-unfitted-level-3);\n",
       "}\n",
       "\n",
       ".sk-estimator-doc-link.fitted span {\n",
       "  /* fitted */\n",
       "  background: var(--sklearn-color-fitted-level-0);\n",
       "  border: var(--sklearn-color-fitted-level-3);\n",
       "}\n",
       "\n",
       ".sk-estimator-doc-link:hover span {\n",
       "  display: block;\n",
       "}\n",
       "\n",
       "/* \"?\"-specific style due to the `<a>` HTML tag */\n",
       "\n",
       "#sk-container-id-1 a.estimator_doc_link {\n",
       "  float: right;\n",
       "  font-size: 1rem;\n",
       "  line-height: 1em;\n",
       "  font-family: monospace;\n",
       "  background-color: var(--sklearn-color-background);\n",
       "  border-radius: 1rem;\n",
       "  height: 1rem;\n",
       "  width: 1rem;\n",
       "  text-decoration: none;\n",
       "  /* unfitted */\n",
       "  color: var(--sklearn-color-unfitted-level-1);\n",
       "  border: var(--sklearn-color-unfitted-level-1) 1pt solid;\n",
       "}\n",
       "\n",
       "#sk-container-id-1 a.estimator_doc_link.fitted {\n",
       "  /* fitted */\n",
       "  border: var(--sklearn-color-fitted-level-1) 1pt solid;\n",
       "  color: var(--sklearn-color-fitted-level-1);\n",
       "}\n",
       "\n",
       "/* On hover */\n",
       "#sk-container-id-1 a.estimator_doc_link:hover {\n",
       "  /* unfitted */\n",
       "  background-color: var(--sklearn-color-unfitted-level-3);\n",
       "  color: var(--sklearn-color-background);\n",
       "  text-decoration: none;\n",
       "}\n",
       "\n",
       "#sk-container-id-1 a.estimator_doc_link.fitted:hover {\n",
       "  /* fitted */\n",
       "  background-color: var(--sklearn-color-fitted-level-3);\n",
       "}\n",
       "</style><div id=\"sk-container-id-1\" class=\"sk-top-container\"><div class=\"sk-text-repr-fallback\"><pre>PoissonRegressor(alpha=0.001)</pre><b>In a Jupyter environment, please rerun this cell to show the HTML representation or trust the notebook. <br />On GitHub, the HTML representation is unable to render, please try loading this page with nbviewer.org.</b></div><div class=\"sk-container\" hidden><div class=\"sk-item\"><div class=\"sk-estimator fitted sk-toggleable\"><input class=\"sk-toggleable__control sk-hidden--visually\" id=\"sk-estimator-id-1\" type=\"checkbox\" checked><label for=\"sk-estimator-id-1\" class=\"sk-toggleable__label fitted sk-toggleable__label-arrow fitted\">&nbsp;&nbsp;PoissonRegressor<a class=\"sk-estimator-doc-link fitted\" rel=\"noreferrer\" target=\"_blank\" href=\"https://scikit-learn.org/1.5/modules/generated/sklearn.linear_model.PoissonRegressor.html\">?<span>Documentation for PoissonRegressor</span></a><span class=\"sk-estimator-doc-link fitted\">i<span>Fitted</span></span></label><div class=\"sk-toggleable__content fitted\"><pre>PoissonRegressor(alpha=0.001)</pre></div> </div></div></div></div>"
      ],
      "text/plain": [
       "PoissonRegressor(alpha=0.001)"
      ]
     },
     "execution_count": 4,
     "metadata": {},
     "output_type": "execute_result"
    }
   ],
   "source": [
    "from sklearn.linear_model import PoissonRegressor\n",
    "glm = PoissonRegressor(alpha=1e-3)\n",
    "glm.fit(X_train, df[\"claim_nb\"])"
   ]
  },
  {
   "cell_type": "code",
   "execution_count": 5,
   "metadata": {},
   "outputs": [],
   "source": [
    "years = np.arange(2010, 2020)\n",
    "np.random.seed(500)\n",
    "sample_years = np.random.choice(years, size=df.height)\n",
    "df = df.with_columns(\n",
    "    pl.lit(sample_years).alias(\"year\"),\n",
    "    pl.lit(glm.predict(X_train)).alias(\"y_hat\")\n",
    ")\n",
    "ordinal_data = ordinal_data.with_columns(\n",
    "    pl.lit(sample_years).alias(\"year\"),\n",
    "    pl.lit(glm.predict(X_train)).alias(\"y_hat\")\n",
    ").with_columns(\n",
    "    pl.all().exclude(\"year\", \"claim_nb\", \"y_hat\").cast(str),\n",
    ")"
   ]
  },
  {
   "cell_type": "code",
   "execution_count": 6,
   "metadata": {},
   "outputs": [
    {
     "name": "stderr",
     "output_type": "stream",
     "text": [
      "sys:1: MapWithoutReturnDtypeWarning: Calling `map_elements` without specifying `return_dtype` can lead to unpredictable results. Specify `return_dtype` to silence this warning.\n"
     ]
    },
    {
     "data": {
      "text/html": [
       "<div><style>\n",
       ".dataframe > thead > tr,\n",
       ".dataframe > tbody > tr {\n",
       "  text-align: right;\n",
       "  white-space: pre-wrap;\n",
       "}\n",
       "</style>\n",
       "<small>shape: (5, 3)</small><table border=\"1\" class=\"dataframe\"><thead><tr><th>variable</th><th>level</th><th>coef_value</th></tr><tr><td>str</td><td>str</td><td>f64</td></tr></thead><tbody><tr><td>&quot;driver_age&quot;</td><td>&quot;0.0&quot;</td><td>1.270512</td></tr><tr><td>&quot;driver_age&quot;</td><td>&quot;1.0&quot;</td><td>0.955437</td></tr><tr><td>&quot;driver_age&quot;</td><td>&quot;2.0&quot;</td><td>0.941488</td></tr><tr><td>&quot;driver_age&quot;</td><td>&quot;3.0&quot;</td><td>0.880731</td></tr><tr><td>&quot;driver_age&quot;</td><td>&quot;4.0&quot;</td><td>0.988261</td></tr></tbody></table></div>"
      ],
      "text/plain": [
       "shape: (5, 3)\n",
       "┌────────────┬───────┬────────────┐\n",
       "│ variable   ┆ level ┆ coef_value │\n",
       "│ ---        ┆ ---   ┆ ---        │\n",
       "│ str        ┆ str   ┆ f64        │\n",
       "╞════════════╪═══════╪════════════╡\n",
       "│ driver_age ┆ 0.0   ┆ 1.270512   │\n",
       "│ driver_age ┆ 1.0   ┆ 0.955437   │\n",
       "│ driver_age ┆ 2.0   ┆ 0.941488   │\n",
       "│ driver_age ┆ 3.0   ┆ 0.880731   │\n",
       "│ driver_age ┆ 4.0   ┆ 0.988261   │\n",
       "└────────────┴───────┴────────────┘"
      ]
     },
     "execution_count": 6,
     "metadata": {},
     "output_type": "execute_result"
    }
   ],
   "source": [
    "factors_df = pl.DataFrame(\n",
    "    {\n",
    "        \"coef_name\": X_train.columns,\n",
    "        \"coef_value\": np.exp(glm.coef_)\n",
    "    }\n",
    ")\n",
    "factors_df = factors_df.select(\n",
    "    pl.col(\"coef_name\").str.split(\"_\").map_elements(lambda x: x[:-1]).list.join(\"_\").alias(\"variable\"),\n",
    "    pl.col(\"coef_name\").str.split(\"_\").list.last().alias(\"level\"),\n",
    "    pl.col(\"coef_value\")\n",
    ")\n",
    "mu = np.exp(glm.intercept_)\n",
    "factors_df.head()"
   ]
  },
  {
   "cell_type": "code",
   "execution_count": 7,
   "metadata": {},
   "outputs": [
    {
     "data": {
      "text/plain": [
       "Schema([('variable', String), ('level', String), ('coef_value', Float64)])"
      ]
     },
     "execution_count": 7,
     "metadata": {},
     "output_type": "execute_result"
    }
   ],
   "source": [
    "factors_df.schema"
   ]
  },
  {
   "cell_type": "code",
   "execution_count": 8,
   "metadata": {},
   "outputs": [],
   "source": [
    "def get_pivot_df(year1, year2, factors_df, data, covs, mu):\n",
    "    dist_1 = data.filter(\n",
    "        pl.col(\"year\") == year1\n",
    "    )\n",
    "    dist_2 = data.filter(\n",
    "        pl.col(\"year\") == year2\n",
    "    )\n",
    "    distrs = pl.DataFrame(\n",
    "        schema={\n",
    "            \"year\": pl.Int32,\n",
    "            \"variable\": str,\n",
    "            \"level\": str,\n",
    "            \"p_x\": pl.Float64,\n",
    "        }\n",
    "    )\n",
    "    for cov in covs:\n",
    "        _ = dist_1.group_by(\n",
    "            cov\n",
    "        ).agg(\n",
    "            pl.col(\"year\").count().alias(\"n_obs\")\n",
    "        ).with_columns(\n",
    "            (pl.col(\"n_obs\") / pl.col(\"n_obs\").sum()).alias(\"p_x\")\n",
    "        ).select(\n",
    "        pl.lit(year1).alias(\"year\"),\n",
    "        pl.lit(cov).alias(\"variable\"),\n",
    "        pl.col(cov).cast(str).alias(\"level\"),\n",
    "        pl.col(\"p_x\")\n",
    "        )\n",
    "        distrs = pl.concat([distrs, _])\n",
    "    for cov in covs:\n",
    "        _ = dist_2.group_by(\n",
    "            cov\n",
    "        ).agg(\n",
    "            pl.col(\"year\").count().alias(\"n_obs\")\n",
    "        ).with_columns(\n",
    "            (pl.col(\"n_obs\") / pl.col(\"n_obs\").sum()).alias(\"p_x\")\n",
    "        ).select(\n",
    "        pl.lit(year2).alias(\"year\"),\n",
    "        pl.lit(cov).alias(\"variable\"),\n",
    "        pl.col(cov).cast(str).alias(\"level\"),\n",
    "        pl.col(\"p_x\")\n",
    "        )\n",
    "        distrs = pl.concat([distrs, _])\n",
    "    pivot_df = distrs.pivot(\n",
    "    index=[\"variable\", \"level\"],\n",
    "    on=\"year\"\n",
    "    ).fill_null(0).with_columns(\n",
    "        (pl.col(str(year2)) - pl.col(str(year1))).alias(\"delta_px\")\n",
    "    ).join(\n",
    "        factors_df, on=[\"variable\", \"level\"]\n",
    "    ).with_columns(\n",
    "        (pl.col(\"coef_value\") * pl.col(\"delta_px\")).alias(\"contribution\")\n",
    "    )\n",
    "    return pivot_df, mu * pivot_df[\"contribution\"].sum()"
   ]
  },
  {
   "cell_type": "code",
   "execution_count": 9,
   "metadata": {},
   "outputs": [
    {
     "data": {
      "text/plain": [
       "<matplotlib.collections.PathCollection at 0x325067500>"
      ]
     },
     "execution_count": 9,
     "metadata": {},
     "output_type": "execute_result"
    },
    {
     "data": {
      "image/png": "[encoded data removed]",
      "text/plain": [
       "<Figure size 640x480 with 1 Axes>"
      ]
     },
     "metadata": {},
     "output_type": "display_data"
    }
   ],
   "source": [
    "res = []\n",
    "for year in df[\"year\"].unique().sort()[:-1]:\n",
    "    res.append(get_pivot_df(year, year + 1, factors_df, ordinal_data, covs, mu))\n",
    "\n",
    "obs_deltas = ordinal_data.group_by(\n",
    "    \"year\"\n",
    ").agg(\n",
    "    pl.col(\"y_hat\").mean()\n",
    ").sort(\"year\").select(\n",
    "    pl.col(\"y_hat\").diff().alias(\"diff\")\n",
    ").drop_nulls().to_numpy()\n",
    "expected_deltas = [el[1] for el in res]\n",
    "plt.axline((0, 0), slope=1., linestyle=\"--\")\n",
    "plt.scatter(expected_deltas, obs_deltas)"
   ]
  },
  {
   "cell_type": "code",
   "execution_count": 10,
   "metadata": {},
   "outputs": [],
   "source": [
    "import plotly.express as px"
   ]
  },
  {
   "cell_type": "code",
   "execution_count": 11,
   "metadata": {},
   "outputs": [
    {
     "data": {
      "text/html": [
       "<div><style>\n",
       ".dataframe > thead > tr,\n",
       ".dataframe > tbody > tr {\n",
       "  text-align: right;\n",
       "  white-space: pre-wrap;\n",
       "}\n",
       "</style>\n",
       "<small>shape: (20, 7)</small><table border=\"1\" class=\"dataframe\"><thead><tr><th>variable</th><th>level</th><th>2010</th><th>2011</th><th>delta_px</th><th>coef_value</th><th>contribution</th></tr><tr><td>str</td><td>str</td><td>f64</td><td>f64</td><td>f64</td><td>f64</td><td>f64</td></tr></thead><tbody><tr><td>&quot;driver_age&quot;</td><td>&quot;0.0&quot;</td><td>0.193186</td><td>0.187329</td><td>-0.005857</td><td>1.270512</td><td>-0.007441</td></tr><tr><td>&quot;driver_age&quot;</td><td>&quot;1.0&quot;</td><td>0.196137</td><td>0.196147</td><td>0.00001</td><td>0.955437</td><td>0.00001</td></tr><tr><td>&quot;driver_age&quot;</td><td>&quot;2.0&quot;</td><td>0.198598</td><td>0.198178</td><td>-0.00042</td><td>0.941488</td><td>-0.000395</td></tr><tr><td>&quot;driver_age&quot;</td><td>&quot;3.0&quot;</td><td>0.20746</td><td>0.2096</td><td>0.00214</td><td>0.880731</td><td>0.001885</td></tr><tr><td>&quot;driver_age&quot;</td><td>&quot;4.0&quot;</td><td>0.204619</td><td>0.208746</td><td>0.004126</td><td>0.988261</td><td>0.004078</td></tr><tr><td>&hellip;</td><td>&hellip;</td><td>&hellip;</td><td>&hellip;</td><td>&hellip;</td><td>&hellip;</td><td>&hellip;</td></tr><tr><td>&quot;car_age&quot;</td><td>&quot;0.0&quot;</td><td>0.095558</td><td>0.094645</td><td>-0.000913</td><td>1.069594</td><td>-0.000976</td></tr><tr><td>&quot;car_age&quot;</td><td>&quot;1.0&quot;</td><td>0.170269</td><td>0.170156</td><td>-0.000114</td><td>1.055328</td><td>-0.00012</td></tr><tr><td>&quot;car_age&quot;</td><td>&quot;2.0&quot;</td><td>0.265327</td><td>0.263202</td><td>-0.002125</td><td>1.013719</td><td>-0.002154</td></tr><tr><td>&quot;car_age&quot;</td><td>&quot;3.0&quot;</td><td>0.247342</td><td>0.249457</td><td>0.002115</td><td>0.968709</td><td>0.002049</td></tr><tr><td>&quot;car_age&quot;</td><td>&quot;4.0&quot;</td><td>0.221504</td><td>0.222541</td><td>0.001036</td><td>0.897415</td><td>0.00093</td></tr></tbody></table></div>"
      ],
      "text/plain": [
       "shape: (20, 7)\n",
       "┌────────────┬───────┬──────────┬──────────┬───────────┬────────────┬──────────────┐\n",
       "│ variable   ┆ level ┆ 2010     ┆ 2011     ┆ delta_px  ┆ coef_value ┆ contribution │\n",
       "│ ---        ┆ ---   ┆ ---      ┆ ---      ┆ ---       ┆ ---        ┆ ---          │\n",
       "│ str        ┆ str   ┆ f64      ┆ f64      ┆ f64       ┆ f64        ┆ f64          │\n",
       "╞════════════╪═══════╪══════════╪══════════╪═══════════╪════════════╪══════════════╡\n",
       "│ driver_age ┆ 0.0   ┆ 0.193186 ┆ 0.187329 ┆ -0.005857 ┆ 1.270512   ┆ -0.007441    │\n",
       "│ driver_age ┆ 1.0   ┆ 0.196137 ┆ 0.196147 ┆ 0.00001   ┆ 0.955437   ┆ 0.00001      │\n",
       "│ driver_age ┆ 2.0   ┆ 0.198598 ┆ 0.198178 ┆ -0.00042  ┆ 0.941488   ┆ -0.000395    │\n",
       "│ driver_age ┆ 3.0   ┆ 0.20746  ┆ 0.2096   ┆ 0.00214   ┆ 0.880731   ┆ 0.001885     │\n",
       "│ driver_age ┆ 4.0   ┆ 0.204619 ┆ 0.208746 ┆ 0.004126  ┆ 0.988261   ┆ 0.004078     │\n",
       "│ …          ┆ …     ┆ …        ┆ …        ┆ …         ┆ …          ┆ …            │\n",
       "│ car_age    ┆ 0.0   ┆ 0.095558 ┆ 0.094645 ┆ -0.000913 ┆ 1.069594   ┆ -0.000976    │\n",
       "│ car_age    ┆ 1.0   ┆ 0.170269 ┆ 0.170156 ┆ -0.000114 ┆ 1.055328   ┆ -0.00012     │\n",
       "│ car_age    ┆ 2.0   ┆ 0.265327 ┆ 0.263202 ┆ -0.002125 ┆ 1.013719   ┆ -0.002154    │\n",
       "│ car_age    ┆ 3.0   ┆ 0.247342 ┆ 0.249457 ┆ 0.002115  ┆ 0.968709   ┆ 0.002049     │\n",
       "│ car_age    ┆ 4.0   ┆ 0.221504 ┆ 0.222541 ┆ 0.001036  ┆ 0.897415   ┆ 0.00093      │\n",
       "└────────────┴───────┴──────────┴──────────┴───────────┴────────────┴──────────────┘"
      ]
     },
     "execution_count": 11,
     "metadata": {},
     "output_type": "execute_result"
    }
   ],
   "source": [
    "res[0][0]"
   ]
  },
  {
   "cell_type": "code",
   "execution_count": 12,
   "metadata": {},
   "outputs": [
    {
     "data": {
      "application/vnd.plotly.v1+json": {
       "config": {
        "plotlyServerURL": "https://plot.ly"
       },
       "data": [
        {
         "alignmentgroup": "True",
         "customdata": [
          [
           -0.005856953805374487,
           "0.0"
          ],
          [
           -0.003915839683759276,
           "0.0"
          ],
          [
           -0.0021251269246781446,
           "2.0"
          ],
          [
           -0.001973555358724538,
           "0.0"
          ],
          [
           -0.0015742864779241528,
           "1.0"
          ],
          [
           -0.0009128436540354751,
           "0.0"
          ],
          [
           -0.0006858016616002605,
           "4.0"
          ],
          [
           -0.00041950449896879793,
           "2.0"
          ],
          [
           -0.00011373140150799932,
           "1.0"
          ],
          [
           0.000010160201928316459,
           "1.0"
          ],
          [
           0.00030550918566255025,
           "3.0"
          ],
          [
           0.0008078814864032613,
           "2.0"
          ],
          [
           0.001036384749614705,
           "4.0"
          ],
          [
           0.001199307942482214,
           "2.0"
          ],
          [
           0.001384625016962765,
           "1.0"
          ],
          [
           0.002140061777825497,
           "3.0"
          ],
          [
           0.002115317230606928,
           "3.0"
          ],
          [
           0.0020177083859145573,
           "3.0"
          ],
          [
           0.002434451164582907,
           "4.0"
          ],
          [
           0.0041262363245894995,
           "4.0"
          ]
         ],
         "hovertemplate": "contribution=%{x}<br>variable=%{y}<br>delta_px=%{customdata[0]:.2%}<br>level=%{customdata[1]}<br>coef_value=%{marker.color}<extra></extra>",
         "legendgroup": "",
         "marker": {
          "color": [
           1.2705123576728545,
           0.8132471595945244,
           1.013718586860164,
           0.9849431765015282,
           0.994116293285892,
           1.0695936050991415,
           1.3164998736887445,
           0.9414880434586892,
           1.055327881248035,
           0.9554369024529145,
           0.9972418233967193,
           0.9829364212006559,
           0.8974153859672278,
           0.9653996881957101,
           0.8918301325800005,
           0.8807309897085089,
           0.9687089261076481,
           1.0791399213466697,
           1.0364208774595467,
           0.988260506711182
          ],
          "coloraxis": "coloraxis",
          "pattern": {
           "shape": ""
          }
         },
         "name": "",
         "offsetgroup": "",
         "orientation": "h",
         "showlegend": false,
         "textposition": "auto",
         "type": "bar",
         "x": [
          -0.007441332188047337,
          -0.003184545500244752,
          -0.0021542806629832145,
          -0.0019438398840237595,
          -0.0015650238380040611,
          -0.0009763717348116773,
          -0.0009028578008722741,
          -0.00039495846995625126,
          -0.00012002391898480648,
          0.000009707431858686805,
          0.00030466653737456844,
          0.000794096136999488,
          0.0009300676200860292,
          0.001157811513722968,
          0.001234850312451488,
          0.0018848187276216013,
          0.0020491266828382413,
          0.002177389668876351,
          0.0025231160121294317,
          0.004077796400948904
         ],
         "xaxis": "x",
         "y": [
          "driver_age",
          "car_power",
          "car_age",
          "car_weight",
          "car_weight",
          "car_age",
          "car_power",
          "driver_age",
          "car_age",
          "driver_age",
          "car_weight",
          "car_weight",
          "car_age",
          "car_power",
          "car_power",
          "driver_age",
          "car_age",
          "car_power",
          "car_weight",
          "driver_age"
         ],
         "yaxis": "y"
        }
       ],
       "layout": {
        "barmode": "relative",
        "coloraxis": {
         "colorbar": {
          "title": {
           "text": "coef_value"
          }
         },
         "colorscale": [
          [
           0,
           "#0d0887"
          ],
          [
           0.1111111111111111,
           "#46039f"
          ],
          [
           0.2222222222222222,
           "#7201a8"
          ],
          [
           0.3333333333333333,
           "#9c179e"
          ],
          [
           0.4444444444444444,
           "#bd3786"
          ],
          [
           0.5555555555555556,
           "#d8576b"
          ],
          [
           0.6666666666666666,
           "#ed7953"
          ],
          [
           0.7777777777777778,
           "#fb9f3a"
          ],
          [
           0.8888888888888888,
           "#fdca26"
          ],
          [
           1,
           "#f0f921"
          ]
         ]
        },
        "legend": {
         "tracegroupgap": 0
        },
        "margin": {
         "t": 60
        },
        "shapes": [
         {
          "line": {
           "color": "white",
           "width": 10
          },
          "type": "line",
          "x0": 0,
          "x1": 0,
          "xref": "x",
          "y0": 0,
          "y1": 1,
          "yref": "y domain"
         }
        ],
        "template": {
         "data": {
          "bar": [
           {
            "error_x": {
             "color": "#2a3f5f"
            },
            "error_y": {
             "color": "#2a3f5f"
            },
            "marker": {
             "line": {
              "color": "#E5ECF6",
              "width": 0.5
             },
             "pattern": {
              "fillmode": "overlay",
              "size": 10,
              "solidity": 0.2
             }
            },
            "type": "bar"
           }
          ],
          "barpolar": [
           {
            "marker": {
             "line": {
              "color": "#E5ECF6",
              "width": 0.5
             },
             "pattern": {
              "fillmode": "overlay",
              "size": 10,
              "solidity": 0.2
             }
            },
            "type": "barpolar"
           }
          ],
          "carpet": [
           {
            "aaxis": {
             "endlinecolor": "#2a3f5f",
             "gridcolor": "white",
             "linecolor": "white",
             "minorgridcolor": "white",
             "startlinecolor": "#2a3f5f"
            },
            "baxis": {
             "endlinecolor": "#2a3f5f",
             "gridcolor": "white",
             "linecolor": "white",
             "minorgridcolor": "white",
             "startlinecolor": "#2a3f5f"
            },
            "type": "carpet"
           }
          ],
          "choropleth": [
           {
            "colorbar": {
             "outlinewidth": 0,
             "ticks": ""
            },
            "type": "choropleth"
           }
          ],
          "contour": [
           {
            "colorbar": {
             "outlinewidth": 0,
             "ticks": ""
            },
            "colorscale": [
             [
              0,
              "#0d0887"
             ],
             [
              0.1111111111111111,
              "#46039f"
             ],
             [
              0.2222222222222222,
              "#7201a8"
             ],
             [
              0.3333333333333333,
              "#9c179e"
             ],
             [
              0.4444444444444444,
              "#bd3786"
             ],
             [
              0.5555555555555556,
              "#d8576b"
             ],
             [
              0.6666666666666666,
              "#ed7953"
             ],
             [
              0.7777777777777778,
              "#fb9f3a"
             ],
             [
              0.8888888888888888,
              "#fdca26"
             ],
             [
              1,
              "#f0f921"
             ]
            ],
            "type": "contour"
           }
          ],
          "contourcarpet": [
           {
            "colorbar": {
             "outlinewidth": 0,
             "ticks": ""
            },
            "type": "contourcarpet"
           }
          ],
          "heatmap": [
           {
            "colorbar": {
             "outlinewidth": 0,
             "ticks": ""
            },
            "colorscale": [
             [
              0,
              "#0d0887"
             ],
             [
              0.1111111111111111,
              "#46039f"
             ],
             [
              0.2222222222222222,
              "#7201a8"
             ],
             [
              0.3333333333333333,
              "#9c179e"
             ],
             [
              0.4444444444444444,
              "#bd3786"
             ],
             [
              0.5555555555555556,
              "#d8576b"
             ],
             [
              0.6666666666666666,
              "#ed7953"
             ],
             [
              0.7777777777777778,
              "#fb9f3a"
             ],
             [
              0.8888888888888888,
              "#fdca26"
             ],
             [
              1,
              "#f0f921"
             ]
            ],
            "type": "heatmap"
           }
          ],
          "heatmapgl": [
           {
            "colorbar": {
             "outlinewidth": 0,
             "ticks": ""
            },
            "colorscale": [
             [
              0,
              "#0d0887"
             ],
             [
              0.1111111111111111,
              "#46039f"
             ],
             [
              0.2222222222222222,
              "#7201a8"
             ],
             [
              0.3333333333333333,
              "#9c179e"
             ],
             [
              0.4444444444444444,
              "#bd3786"
             ],
             [
              0.5555555555555556,
              "#d8576b"
             ],
             [
              0.6666666666666666,
              "#ed7953"
             ],
             [
              0.7777777777777778,
              "#fb9f3a"
             ],
             [
              0.8888888888888888,
              "#fdca26"
             ],
             [
              1,
              "#f0f921"
             ]
            ],
            "type": "heatmapgl"
           }
          ],
          "histogram": [
           {
            "marker": {
             "pattern": {
              "fillmode": "overlay",
              "size": 10,
              "solidity": 0.2
             }
            },
            "type": "histogram"
           }
          ],
          "histogram2d": [
           {
            "colorbar": {
             "outlinewidth": 0,
             "ticks": ""
            },
            "colorscale": [
             [
              0,
              "#0d0887"
             ],
             [
              0.1111111111111111,
              "#46039f"
             ],
             [
              0.2222222222222222,
              "#7201a8"
             ],
             [
              0.3333333333333333,
              "#9c179e"
             ],
             [
              0.4444444444444444,
              "#bd3786"
             ],
             [
              0.5555555555555556,
              "#d8576b"
             ],
             [
              0.6666666666666666,
              "#ed7953"
             ],
             [
              0.7777777777777778,
              "#fb9f3a"
             ],
             [
              0.8888888888888888,
              "#fdca26"
             ],
             [
              1,
              "#f0f921"
             ]
            ],
            "type": "histogram2d"
           }
          ],
          "histogram2dcontour": [
           {
            "colorbar": {
             "outlinewidth": 0,
             "ticks": ""
            },
            "colorscale": [
             [
              0,
              "#0d0887"
             ],
             [
              0.1111111111111111,
              "#46039f"
             ],
             [
              0.2222222222222222,
              "#7201a8"
             ],
             [
              0.3333333333333333,
              "#9c179e"
             ],
             [
              0.4444444444444444,
              "#bd3786"
             ],
             [
              0.5555555555555556,
              "#d8576b"
             ],
             [
              0.6666666666666666,
              "#ed7953"
             ],
             [
              0.7777777777777778,
              "#fb9f3a"
             ],
             [
              0.8888888888888888,
              "#fdca26"
             ],
             [
              1,
              "#f0f921"
             ]
            ],
            "type": "histogram2dcontour"
           }
          ],
          "mesh3d": [
           {
            "colorbar": {
             "outlinewidth": 0,
             "ticks": ""
            },
            "type": "mesh3d"
           }
          ],
          "parcoords": [
           {
            "line": {
             "colorbar": {
              "outlinewidth": 0,
              "ticks": ""
             }
            },
            "type": "parcoords"
           }
          ],
          "pie": [
           {
            "automargin": true,
            "type": "pie"
           }
          ],
          "scatter": [
           {
            "fillpattern": {
             "fillmode": "overlay",
             "size": 10,
             "solidity": 0.2
            },
            "type": "scatter"
           }
          ],
          "scatter3d": [
           {
            "line": {
             "colorbar": {
              "outlinewidth": 0,
              "ticks": ""
             }
            },
            "marker": {
             "colorbar": {
              "outlinewidth": 0,
              "ticks": ""
             }
            },
            "type": "scatter3d"
           }
          ],
          "scattercarpet": [
           {
            "marker": {
             "colorbar": {
              "outlinewidth": 0,
              "ticks": ""
             }
            },
            "type": "scattercarpet"
           }
          ],
          "scattergeo": [
           {
            "marker": {
             "colorbar": {
              "outlinewidth": 0,
              "ticks": ""
             }
            },
            "type": "scattergeo"
           }
          ],
          "scattergl": [
           {
            "marker": {
             "colorbar": {
              "outlinewidth": 0,
              "ticks": ""
             }
            },
            "type": "scattergl"
           }
          ],
          "scattermapbox": [
           {
            "marker": {
             "colorbar": {
              "outlinewidth": 0,
              "ticks": ""
             }
            },
            "type": "scattermapbox"
           }
          ],
          "scatterpolar": [
           {
            "marker": {
             "colorbar": {
              "outlinewidth": 0,
              "ticks": ""
             }
            },
            "type": "scatterpolar"
           }
          ],
          "scatterpolargl": [
           {
            "marker": {
             "colorbar": {
              "outlinewidth": 0,
              "ticks": ""
             }
            },
            "type": "scatterpolargl"
           }
          ],
          "scatterternary": [
           {
            "marker": {
             "colorbar": {
              "outlinewidth": 0,
              "ticks": ""
             }
            },
            "type": "scatterternary"
           }
          ],
          "surface": [
           {
            "colorbar": {
             "outlinewidth": 0,
             "ticks": ""
            },
            "colorscale": [
             [
              0,
              "#0d0887"
             ],
             [
              0.1111111111111111,
              "#46039f"
             ],
             [
              0.2222222222222222,
              "#7201a8"
             ],
             [
              0.3333333333333333,
              "#9c179e"
             ],
             [
              0.4444444444444444,
              "#bd3786"
             ],
             [
              0.5555555555555556,
              "#d8576b"
             ],
             [
              0.6666666666666666,
              "#ed7953"
             ],
             [
              0.7777777777777778,
              "#fb9f3a"
             ],
             [
              0.8888888888888888,
              "#fdca26"
             ],
             [
              1,
              "#f0f921"
             ]
            ],
            "type": "surface"
           }
          ],
          "table": [
           {
            "cells": {
             "fill": {
              "color": "#EBF0F8"
             },
             "line": {
              "color": "white"
             }
            },
            "header": {
             "fill": {
              "color": "#C8D4E3"
             },
             "line": {
              "color": "white"
             }
            },
            "type": "table"
           }
          ]
         },
         "layout": {
          "annotationdefaults": {
           "arrowcolor": "#2a3f5f",
           "arrowhead": 0,
           "arrowwidth": 1
          },
          "autotypenumbers": "strict",
          "coloraxis": {
           "colorbar": {
            "outlinewidth": 0,
            "ticks": ""
           }
          },
          "colorscale": {
           "diverging": [
            [
             0,
             "#8e0152"
            ],
            [
             0.1,
             "#c51b7d"
            ],
            [
             0.2,
             "#de77ae"
            ],
            [
             0.3,
             "#f1b6da"
            ],
            [
             0.4,
             "#fde0ef"
            ],
            [
             0.5,
             "#f7f7f7"
            ],
            [
             0.6,
             "#e6f5d0"
            ],
            [
             0.7,
             "#b8e186"
            ],
            [
             0.8,
             "#7fbc41"
            ],
            [
             0.9,
             "#4d9221"
            ],
            [
             1,
             "#276419"
            ]
           ],
           "sequential": [
            [
             0,
             "#0d0887"
            ],
            [
             0.1111111111111111,
             "#46039f"
            ],
            [
             0.2222222222222222,
             "#7201a8"
            ],
            [
             0.3333333333333333,
             "#9c179e"
            ],
            [
             0.4444444444444444,
             "#bd3786"
            ],
            [
             0.5555555555555556,
             "#d8576b"
            ],
            [
             0.6666666666666666,
             "#ed7953"
            ],
            [
             0.7777777777777778,
             "#fb9f3a"
            ],
            [
             0.8888888888888888,
             "#fdca26"
            ],
            [
             1,
             "#f0f921"
            ]
           ],
           "sequentialminus": [
            [
             0,
             "#0d0887"
            ],
            [
             0.1111111111111111,
             "#46039f"
            ],
            [
             0.2222222222222222,
             "#7201a8"
            ],
            [
             0.3333333333333333,
             "#9c179e"
            ],
            [
             0.4444444444444444,
             "#bd3786"
            ],
            [
             0.5555555555555556,
             "#d8576b"
            ],
            [
             0.6666666666666666,
             "#ed7953"
            ],
            [
             0.7777777777777778,
             "#fb9f3a"
            ],
            [
             0.8888888888888888,
             "#fdca26"
            ],
            [
             1,
             "#f0f921"
            ]
           ]
          },
          "colorway": [
           "#636efa",
           "#EF553B",
           "#00cc96",
           "#ab63fa",
           "#FFA15A",
           "#19d3f3",
           "#FF6692",
           "#B6E880",
           "#FF97FF",
           "#FECB52"
          ],
          "font": {
           "color": "#2a3f5f"
          },
          "geo": {
           "bgcolor": "white",
           "lakecolor": "white",
           "landcolor": "#E5ECF6",
           "showlakes": true,
           "showland": true,
           "subunitcolor": "white"
          },
          "hoverlabel": {
           "align": "left"
          },
          "hovermode": "closest",
          "mapbox": {
           "style": "light"
          },
          "paper_bgcolor": "white",
          "plot_bgcolor": "#E5ECF6",
          "polar": {
           "angularaxis": {
            "gridcolor": "white",
            "linecolor": "white",
            "ticks": ""
           },
           "bgcolor": "#E5ECF6",
           "radialaxis": {
            "gridcolor": "white",
            "linecolor": "white",
            "ticks": ""
           }
          },
          "scene": {
           "xaxis": {
            "backgroundcolor": "#E5ECF6",
            "gridcolor": "white",
            "gridwidth": 2,
            "linecolor": "white",
            "showbackground": true,
            "ticks": "",
            "zerolinecolor": "white"
           },
           "yaxis": {
            "backgroundcolor": "#E5ECF6",
            "gridcolor": "white",
            "gridwidth": 2,
            "linecolor": "white",
            "showbackground": true,
            "ticks": "",
            "zerolinecolor": "white"
           },
           "zaxis": {
            "backgroundcolor": "#E5ECF6",
            "gridcolor": "white",
            "gridwidth": 2,
            "linecolor": "white",
            "showbackground": true,
            "ticks": "",
            "zerolinecolor": "white"
           }
          },
          "shapedefaults": {
           "line": {
            "color": "#2a3f5f"
           }
          },
          "ternary": {
           "aaxis": {
            "gridcolor": "white",
            "linecolor": "white",
            "ticks": ""
           },
           "baxis": {
            "gridcolor": "white",
            "linecolor": "white",
            "ticks": ""
           },
           "bgcolor": "#E5ECF6",
           "caxis": {
            "gridcolor": "white",
            "linecolor": "white",
            "ticks": ""
           }
          },
          "title": {
           "x": 0.05
          },
          "xaxis": {
           "automargin": true,
           "gridcolor": "white",
           "linecolor": "white",
           "ticks": "",
           "title": {
            "standoff": 15
           },
           "zerolinecolor": "white",
           "zerolinewidth": 2
          },
          "yaxis": {
           "automargin": true,
           "gridcolor": "white",
           "linecolor": "white",
           "ticks": "",
           "title": {
            "standoff": 15
           },
           "zerolinecolor": "white",
           "zerolinewidth": 2
          }
         }
        },
        "xaxis": {
         "anchor": "y",
         "domain": [
          0,
          1
         ],
         "title": {
          "text": "contribution"
         }
        },
        "yaxis": {
         "anchor": "x",
         "domain": [
          0,
          1
         ],
         "title": {
          "text": "variable"
         }
        }
       }
      }
     },
     "metadata": {},
     "output_type": "display_data"
    }
   ],
   "source": [
    "fig = px.bar(res[0][0].sort(\"contribution\"), \n",
    "             x=\"contribution\", y=\"variable\", \n",
    "             orientation='h', color=\"coef_value\",\n",
    "             hover_data={\n",
    "                 \"delta_px\": ':.2%',\n",
    "                 \"level\": True\n",
    "             }\n",
    "             )\n",
    "fig.add_vline(x=0, line_width=10, line_color=\"white\")\n",
    "fig.show()"
   ]
  }
 ],
 "metadata": {
  "kernelspec": {
   "display_name": ".venv",
   "language": "python",
   "name": "python3"
  },
  "language_info": {
   "codemirror_mode": {
    "name": "ipython",
    "version": 3
   },
   "file_extension": ".py",
   "mimetype": "text/x-python",
   "name": "python",
   "nbconvert_exporter": "python",
   "pygments_lexer": "ipython3",
   "version": "3.12.5"
  }
 },
 "nbformat": 4,
 "nbformat_minor": 2
}
